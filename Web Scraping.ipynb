{
 "cells": [
  {
   "cell_type": "markdown",
   "metadata": {
    "id": "TL72tm8Mj7ga",
    "tags": []
   },
   "source": [
    "# BBC Location ID Weather Scraping"
   ]
  },
  {
   "cell_type": "code",
   "execution_count": 1,
   "metadata": {
    "executionInfo": {
     "elapsed": 851,
     "status": "ok",
     "timestamp": 1663231870501,
     "user": {
      "displayName": "Hardik Atri",
      "userId": "00053407545825499605"
     },
     "user_tz": -330
    },
    "id": "7yNBmQeLh06e"
   },
   "outputs": [],
   "source": [
    "import os\n",
    "\n",
    "import requests                          # to get the html code for the webpage\n",
    "import json                              # to convert API to json format\n",
    "\n",
    "from urllib.parse import urlencode\n",
    "\n",
    "import numpy as np\n",
    "import pandas as pd\n",
    "import re                                # regular expression operators"
   ]
  },
  {
   "cell_type": "code",
   "execution_count": null,
   "metadata": {
    "colab": {
     "base_uri": "https://localhost:8080/",
     "height": 57
    },
    "executionInfo": {
     "elapsed": 5,
     "status": "ok",
     "timestamp": 1663064356059,
     "user": {
      "displayName": "Hardik Atri",
      "userId": "00053407545825499605"
     },
     "user_tz": -330
    },
    "id": "2thyXDU_mTvp",
    "outputId": "f0f88cf7-d5c4-4f0f-a79d-6d9faa971e56"
   },
   "outputs": [
    {
     "data": {
      "application/vnd.google.colaboratory.intrinsic+json": {
       "type": "string"
      },
      "text/plain": [
       "'https://locator-service.api.bbci.co.uk/locations?api_key=AGbFAKx58hyjQScCXIYrxuEwJh2W2cmv&s=Toronto&stack=aws&locale=en&filter=international&place-types=settlement%2Cairport%2Cdistrict&order=importance&a=true&format=json'"
      ]
     },
     "execution_count": 2,
     "metadata": {},
     "output_type": "execute_result"
    }
   ],
   "source": [
    "test_city = 'Toronto'\n",
    "\n",
    "location_url = 'https://locator-service.api.bbci.co.uk/locations?' + urlencode({\n",
    "    'api_key': 'AGbFAKx58hyjQScCXIYrxuEwJh2W2cmv',\n",
    "    's': test_city,\n",
    "    'stack': 'aws',\n",
    "    'locale': 'en',\n",
    "    'filter': 'international',\n",
    "    'place-types': 'settlement,airport,district',\n",
    "    'order': 'importance',\n",
    "    'a': 'true',\n",
    "    'format': 'json'\n",
    "})\n",
    "\n",
    "location_url"
   ]
  },
  {
   "cell_type": "markdown",
   "metadata": {
    "id": "exFyTignwK2o"
   },
   "source": [
    "  \n",
    "Got the location api from: inspect( right click on web page ) --> network"
   ]
  },
  {
   "cell_type": "code",
   "execution_count": null,
   "metadata": {
    "colab": {
     "base_uri": "https://localhost:8080/"
    },
    "executionInfo": {
     "elapsed": 1668,
     "status": "ok",
     "timestamp": 1663064357723,
     "user": {
      "displayName": "Hardik Atri",
      "userId": "00053407545825499605"
     },
     "user_tz": -330
    },
    "id": "nXnh6fNIpVPJ",
    "outputId": "3e892726-a367-4c12-efd2-9bc680a1490b"
   },
   "outputs": [
    {
     "data": {
      "text/plain": [
       "{'response': {'results': {'results': [{'id': '6167865',\n",
       "     'name': 'Toronto',\n",
       "     'container': 'Canada',\n",
       "     'containerId': 6251999,\n",
       "     'language': 'en',\n",
       "     'timezone': 'America/Toronto',\n",
       "     'country': 'CA',\n",
       "     'latitude': 43.70011,\n",
       "     'longitude': -79.4163,\n",
       "     'placeType': 'settlement'},\n",
       "    {'id': '4251360',\n",
       "     'name': 'Toronto',\n",
       "     'container': 'United States',\n",
       "     'containerId': 6252001,\n",
       "     'language': 'en',\n",
       "     'timezone': 'America/Chicago',\n",
       "     'country': 'US',\n",
       "     'latitude': 39.71394,\n",
       "     'longitude': -89.62982,\n",
       "     'placeType': 'settlement'},\n",
       "    {'id': '6296338',\n",
       "     'name': 'Toronto Pearson International Airport',\n",
       "     'container': 'Canada',\n",
       "     'containerId': 6251999,\n",
       "     'language': 'en',\n",
       "     'timezone': 'America/Toronto',\n",
       "     'country': 'CA',\n",
       "     'latitude': 43.68066,\n",
       "     'longitude': -79.61286,\n",
       "     'placeType': 'airport'}],\n",
       "   'totalResults': 3}}}"
      ]
     },
     "execution_count": 3,
     "metadata": {},
     "output_type": "execute_result"
    }
   ],
   "source": [
    "result = requests.get(location_url).json()\n",
    "result"
   ]
  },
  {
   "cell_type": "code",
   "execution_count": null,
   "metadata": {
    "colab": {
     "base_uri": "https://localhost:8080/",
     "height": 39
    },
    "executionInfo": {
     "elapsed": 26,
     "status": "ok",
     "timestamp": 1663064357724,
     "user": {
      "displayName": "Hardik Atri",
      "userId": "00053407545825499605"
     },
     "user_tz": -330
    },
    "id": "WjDzXoTvpwJ9",
    "outputId": "20ae9474-541d-4f33-fa65-5a44953d2f7c"
   },
   "outputs": [
    {
     "data": {
      "application/vnd.google.colaboratory.intrinsic+json": {
       "type": "string"
      },
      "text/plain": [
       "'6167865'"
      ]
     },
     "execution_count": 4,
     "metadata": {},
     "output_type": "execute_result"
    }
   ],
   "source": [
    "loc_id = result['response']['results']['results'][0]['id']\n",
    "loc_id"
   ]
  },
  {
   "cell_type": "markdown",
   "metadata": {
    "id": "0JasAIcvqxZD"
   },
   "source": [
    "#### Creating a function to get id"
   ]
  },
  {
   "cell_type": "code",
   "execution_count": 2,
   "metadata": {
    "executionInfo": {
     "elapsed": 7,
     "status": "ok",
     "timestamp": 1663231879715,
     "user": {
      "displayName": "Hardik Atri",
      "userId": "00053407545825499605"
     },
     "user_tz": -330
    },
    "id": "dMPXBd2NqTWN"
   },
   "outputs": [],
   "source": [
    "def get_id(city):\n",
    "    city = city.lower()\n",
    "    location_url = 'https://locator-service.api.bbci.co.uk/locations?' + urlencode({\n",
    "    'api_key': 'AGbFAKx58hyjQScCXIYrxuEwJh2W2cmv',\n",
    "    's': city,\n",
    "    'stack': 'aws',\n",
    "    'locale': 'en',\n",
    "    'filter': 'international',\n",
    "    'place-types': 'settlement,airport,district',\n",
    "    'order': 'importance',\n",
    "    'a': 'true',\n",
    "    'format': 'json'\n",
    "                       })\n",
    "    \n",
    "    result = requests.get(location_url).json()\n",
    "\n",
    "    loc_id = result['response']['results']['results'][0]['id']\n",
    "\n",
    "    return loc_id"
   ]
  },
  {
   "cell_type": "code",
   "execution_count": null,
   "metadata": {
    "colab": {
     "base_uri": "https://localhost:8080/",
     "height": 39
    },
    "executionInfo": {
     "elapsed": 24,
     "status": "ok",
     "timestamp": 1663064357726,
     "user": {
      "displayName": "Hardik Atri",
      "userId": "00053407545825499605"
     },
     "user_tz": -330
    },
    "id": "VV65fBnJrO25",
    "outputId": "a1aa339e-93ae-421b-b003-a18939b0b874"
   },
   "outputs": [
    {
     "data": {
      "application/vnd.google.colaboratory.intrinsic+json": {
       "type": "string"
      },
      "text/plain": [
       "'5128581'"
      ]
     },
     "execution_count": 6,
     "metadata": {},
     "output_type": "execute_result"
    }
   ],
   "source": [
    "get_id('new York')"
   ]
  },
  {
   "cell_type": "code",
   "execution_count": null,
   "metadata": {
    "colab": {
     "base_uri": "https://localhost:8080/",
     "height": 39
    },
    "executionInfo": {
     "elapsed": 22,
     "status": "ok",
     "timestamp": 1663064357727,
     "user": {
      "displayName": "Hardik Atri",
      "userId": "00053407545825499605"
     },
     "user_tz": -330
    },
    "id": "yNULmcmSuyc-",
    "outputId": "de3ee9e2-3b81-4521-89ac-cb6109720d4f"
   },
   "outputs": [
    {
     "data": {
      "application/vnd.google.colaboratory.intrinsic+json": {
       "type": "string"
      },
      "text/plain": [
       "'1275339'"
      ]
     },
     "execution_count": 7,
     "metadata": {},
     "output_type": "execute_result"
    }
   ],
   "source": [
    "get_id('mumbai')"
   ]
  },
  {
   "cell_type": "code",
   "execution_count": 3,
   "metadata": {
    "colab": {
     "base_uri": "https://localhost:8080/",
     "height": 39
    },
    "executionInfo": {
     "elapsed": 740,
     "status": "ok",
     "timestamp": 1663231935728,
     "user": {
      "displayName": "Hardik Atri",
      "userId": "00053407545825499605"
     },
     "user_tz": -330
    },
    "id": "UvY-d9TVWIQX",
    "outputId": "f57b9cd2-d9d3-43f9-fa28-b4091b21dab7"
   },
   "outputs": [
    {
     "data": {
      "application/vnd.google.colaboratory.intrinsic+json": {
       "type": "string"
      },
      "text/plain": [
       "'4691930'"
      ]
     },
     "execution_count": 3,
     "metadata": {},
     "output_type": "execute_result"
    }
   ],
   "source": [
    "get_id('Fort Worth')"
   ]
  },
  {
   "cell_type": "markdown",
   "metadata": {
    "id": "dekWttZbrxRz",
    "tags": []
   },
   "source": [
    "# BBC Weather Scraping"
   ]
  },
  {
   "cell_type": "code",
   "execution_count": null,
   "metadata": {
    "id": "V2paLAuDrTJD"
   },
   "outputs": [],
   "source": [
    "import json                              # to convert API to json format\n",
    "\n",
    "from urllib.parse import urlencode\n",
    "\n",
    "import requests                          # to get the web page\n",
    "from bs4 import BeautifulSoup            # to parse the web page\n",
    "\n",
    "import pandas as pd\n",
    "import re\n",
    "\n",
    "from datetime import datetime"
   ]
  },
  {
   "cell_type": "code",
   "execution_count": null,
   "metadata": {
    "id": "0qCmYTyluUSR"
   },
   "outputs": [],
   "source": [
    "# eg. url for mumbai --> https://www.bbc.com/weather/1275339\n",
    "\n",
    "city_name = 'Mumbai'\n",
    "city_id = get_id(city_name)                  # function defined in prev module\n",
    "\n",
    "url = 'https://www.bbc.com/weather/' + city_id\n",
    "\n",
    "response = requests.get(url)"
   ]
  },
  {
   "cell_type": "code",
   "execution_count": null,
   "metadata": {
    "id": "n8uYXTxbv7LF"
   },
   "outputs": [],
   "source": [
    "soup = BeautifulSoup( response.content, 'html.parser')"
   ]
  },
  {
   "cell_type": "markdown",
   "metadata": {
    "id": "x7nMDgkcxTks"
   },
   "source": [
    "#### The information we want ( daily high and low temp. and daily weather summary ), are in specific blocks on the webpage. We need to find the block type, type of identifier and identifier name. ( all these can be figured out by right clicking on the web page and selecting **'inspect'** on the Chrome."
   ]
  },
  {
   "cell_type": "code",
   "execution_count": null,
   "metadata": {
    "colab": {
     "base_uri": "https://localhost:8080/"
    },
    "collapsed": true,
    "executionInfo": {
     "elapsed": 17,
     "status": "ok",
     "timestamp": 1663064360824,
     "user": {
      "displayName": "Hardik Atri",
      "userId": "00053407545825499605"
     },
     "user_tz": -330
    },
    "id": "ub4go_fVxR43",
    "jupyter": {
     "outputs_hidden": true
    },
    "outputId": "8509aa78-7b31-4219-f109-7aff38060509",
    "tags": []
   },
   "outputs": [
    {
     "data": {
      "text/plain": [
       "[<span class=\"wr-day-temperature__high-value\"><span class=\"wr-value--temperature \"><span class=\"wr-value--temperature--c\">27°</span><span class=\"wr-hide\"> </span><span class=\"wr-value--temperature--f\">81°</span></span></span>,\n",
       " <span class=\"wr-day-temperature__high-value\"><span class=\"wr-value--temperature \"><span class=\"wr-value--temperature--c\">29°</span><span class=\"wr-hide\"> </span><span class=\"wr-value--temperature--f\">85°</span></span></span>,\n",
       " <span class=\"wr-day-temperature__high-value\"><span class=\"wr-value--temperature \"><span class=\"wr-value--temperature--c\">28°</span><span class=\"wr-hide\"> </span><span class=\"wr-value--temperature--f\">83°</span></span></span>,\n",
       " <span class=\"wr-day-temperature__high-value\"><span class=\"wr-value--temperature \"><span class=\"wr-value--temperature--c\">28°</span><span class=\"wr-hide\"> </span><span class=\"wr-value--temperature--f\">83°</span></span></span>,\n",
       " <span class=\"wr-day-temperature__high-value\"><span class=\"wr-value--temperature \"><span class=\"wr-value--temperature--c\">29°</span><span class=\"wr-hide\"> </span><span class=\"wr-value--temperature--f\">84°</span></span></span>,\n",
       " <span class=\"wr-day-temperature__high-value\"><span class=\"wr-value--temperature \"><span class=\"wr-value--temperature--c\">31°</span><span class=\"wr-hide\"> </span><span class=\"wr-value--temperature--f\">87°</span></span></span>,\n",
       " <span class=\"wr-day-temperature__high-value\"><span class=\"wr-value--temperature \"><span class=\"wr-value--temperature--c\">31°</span><span class=\"wr-hide\"> </span><span class=\"wr-value--temperature--f\">88°</span></span></span>,\n",
       " <span class=\"wr-day-temperature__high-value\"><span class=\"wr-value--temperature \"><span class=\"wr-value--temperature--c\">31°</span><span class=\"wr-hide\"> </span><span class=\"wr-value--temperature--f\">87°</span></span></span>,\n",
       " <span class=\"wr-day-temperature__high-value\"><span class=\"wr-value--temperature \"><span class=\"wr-value--temperature--c\">31°</span><span class=\"wr-hide\"> </span><span class=\"wr-value--temperature--f\">87°</span></span></span>,\n",
       " <span class=\"wr-day-temperature__high-value\"><span class=\"wr-value--temperature \"><span class=\"wr-value--temperature--c\">30°</span><span class=\"wr-hide\"> </span><span class=\"wr-value--temperature--f\">86°</span></span></span>,\n",
       " <span class=\"wr-day-temperature__high-value\"><span class=\"wr-value--temperature \"><span class=\"wr-value--temperature--c\">29°</span><span class=\"wr-hide\"> </span><span class=\"wr-value--temperature--f\">84°</span></span></span>,\n",
       " <span class=\"wr-day-temperature__high-value\"><span class=\"wr-value--temperature \"><span class=\"wr-value--temperature--c\">29°</span><span class=\"wr-hide\"> </span><span class=\"wr-value--temperature--f\">85°</span></span></span>,\n",
       " <span class=\"wr-day-temperature__high-value\"><span class=\"wr-value--temperature \"><span class=\"wr-value--temperature--c\">30°</span><span class=\"wr-hide\"> </span><span class=\"wr-value--temperature--f\">86°</span></span></span>,\n",
       " <span class=\"wr-day-temperature__high-value\"><span class=\"wr-value--temperature \"><span class=\"wr-value--temperature--c\">31°</span><span class=\"wr-hide\"> </span><span class=\"wr-value--temperature--f\">87°</span></span></span>]"
      ]
     },
     "execution_count": 11,
     "metadata": {},
     "output_type": "execute_result"
    }
   ],
   "source": [
    "daily_high_value = soup.find_all('span', attrs = {'class': 'wr-day-temperature__high-value'})\n",
    "\n",
    "# block-type: span , identifier type: class,  class name = 'wr-day-temperature__high-value' \n",
    "\n",
    "daily_high_value        # display values for 14 days"
   ]
  },
  {
   "cell_type": "code",
   "execution_count": null,
   "metadata": {
    "id": "yH7VZ3jU1rMh"
   },
   "outputs": [],
   "source": [
    "daily_low_value = soup.find_all('span' , attrs = {'class': 'wr-day-temperature__low-value'})"
   ]
  },
  {
   "cell_type": "code",
   "execution_count": null,
   "metadata": {
    "colab": {
     "base_uri": "https://localhost:8080/"
    },
    "executionInfo": {
     "elapsed": 16,
     "status": "ok",
     "timestamp": 1663064360824,
     "user": {
      "displayName": "Hardik Atri",
      "userId": "00053407545825499605"
     },
     "user_tz": -330
    },
    "id": "d8AtdskW2-us",
    "outputId": "bf93979a-840d-42d4-bbed-b9669fdb23af"
   },
   "outputs": [
    {
     "data": {
      "text/plain": [
       "<div class=\"wr-day-summary\"><div class=\"gel-wrap\"><span class=\"\">Thundery showers and a gentle breeze</span><span class=\"wr-hide\">Thundery showers and a moderate breeze</span><span class=\"wr-hide\">Thundery showers and a moderate breeze</span><span class=\"wr-hide\">Thundery showers and a gentle breeze</span><span class=\"wr-hide\">Thundery showers and a gentle breeze</span><span class=\"wr-hide\">Light cloud and a gentle breeze</span><span class=\"wr-hide\">Light cloud and a gentle breeze</span><span class=\"wr-hide\">Light cloud and a gentle breeze</span><span class=\"wr-hide\">Light cloud and a gentle breeze</span><span class=\"wr-hide\">Heavy rain and a gentle breeze</span><span class=\"wr-hide\">Thundery showers and a gentle breeze</span><span class=\"wr-hide\">Thundery showers and a gentle breeze</span><span class=\"wr-hide\">Light cloud and a gentle breeze</span><span class=\"wr-hide\">Light cloud and a gentle breeze</span></div></div>"
      ]
     },
     "execution_count": 13,
     "metadata": {},
     "output_type": "execute_result"
    }
   ],
   "source": [
    "daily_summary = soup.find('div' , attrs = {'class': 'wr-day-summary'})\n",
    "daily_summary"
   ]
  },
  {
   "cell_type": "code",
   "execution_count": null,
   "metadata": {
    "colab": {
     "base_uri": "https://localhost:8080/",
     "height": 74
    },
    "executionInfo": {
     "elapsed": 15,
     "status": "ok",
     "timestamp": 1663064360825,
     "user": {
      "displayName": "Hardik Atri",
      "userId": "00053407545825499605"
     },
     "user_tz": -330
    },
    "id": "yL4_-tnM4Kt6",
    "outputId": "d072fb90-0db0-45e8-e940-484a65db5308"
   },
   "outputs": [
    {
     "data": {
      "application/vnd.google.colaboratory.intrinsic+json": {
       "type": "string"
      },
      "text/plain": [
       "'Thundery showers and a gentle breezeThundery showers and a moderate breezeThundery showers and a moderate breezeThundery showers and a gentle breezeThundery showers and a gentle breezeLight cloud and a gentle breezeLight cloud and a gentle breezeLight cloud and a gentle breezeLight cloud and a gentle breezeHeavy rain and a gentle breezeThundery showers and a gentle breezeThundery showers and a gentle breezeLight cloud and a gentle breezeLight cloud and a gentle breeze'"
      ]
     },
     "execution_count": 14,
     "metadata": {},
     "output_type": "execute_result"
    }
   ],
   "source": [
    "daily_summary.text"
   ]
  },
  {
   "cell_type": "code",
   "execution_count": null,
   "metadata": {
    "colab": {
     "base_uri": "https://localhost:8080/",
     "height": 39
    },
    "executionInfo": {
     "elapsed": 14,
     "status": "ok",
     "timestamp": 1663064360825,
     "user": {
      "displayName": "Hardik Atri",
      "userId": "00053407545825499605"
     },
     "user_tz": -330
    },
    "id": "Gcjkt_RZ4Qkr",
    "outputId": "c283bbb0-b48f-4f94-8874-6b2f902bb624"
   },
   "outputs": [
    {
     "data": {
      "application/vnd.google.colaboratory.intrinsic+json": {
       "type": "string"
      },
      "text/plain": [
       "'27° 81°'"
      ]
     },
     "execution_count": 15,
     "metadata": {},
     "output_type": "execute_result"
    }
   ],
   "source": [
    "daily_high_value[0].text.strip()"
   ]
  },
  {
   "cell_type": "code",
   "execution_count": null,
   "metadata": {
    "colab": {
     "base_uri": "https://localhost:8080/",
     "height": 39
    },
    "executionInfo": {
     "elapsed": 13,
     "status": "ok",
     "timestamp": 1663064360825,
     "user": {
      "displayName": "Hardik Atri",
      "userId": "00053407545825499605"
     },
     "user_tz": -330
    },
    "id": "OXZsa9pD6J-t",
    "outputId": "5778e927-cfc4-4b0d-ddbf-56fefb4f3819"
   },
   "outputs": [
    {
     "data": {
      "application/vnd.google.colaboratory.intrinsic+json": {
       "type": "string"
      },
      "text/plain": [
       "'31° 87°'"
      ]
     },
     "execution_count": 16,
     "metadata": {},
     "output_type": "execute_result"
    }
   ],
   "source": [
    "daily_high_value[5].text.strip()"
   ]
  },
  {
   "cell_type": "code",
   "execution_count": null,
   "metadata": {
    "colab": {
     "base_uri": "https://localhost:8080/"
    },
    "executionInfo": {
     "elapsed": 14,
     "status": "ok",
     "timestamp": 1663064360826,
     "user": {
      "displayName": "Hardik Atri",
      "userId": "00053407545825499605"
     },
     "user_tz": -330
    },
    "id": "N7JbAtKM6pWR",
    "outputId": "61578b26-da8b-4948-a4d6-095e405d3473"
   },
   "outputs": [
    {
     "data": {
      "text/plain": [
       "['27°', '81°']"
      ]
     },
     "execution_count": 17,
     "metadata": {},
     "output_type": "execute_result"
    }
   ],
   "source": [
    "daily_high_value[0].text.strip().split()"
   ]
  },
  {
   "cell_type": "code",
   "execution_count": null,
   "metadata": {
    "colab": {
     "base_uri": "https://localhost:8080/",
     "height": 39
    },
    "executionInfo": {
     "elapsed": 13,
     "status": "ok",
     "timestamp": 1663064360826,
     "user": {
      "displayName": "Hardik Atri",
      "userId": "00053407545825499605"
     },
     "user_tz": -330
    },
    "id": "lEwPf2K47KOq",
    "outputId": "f76a40fd-f6d2-4a0c-fd84-8958473d38b9"
   },
   "outputs": [
    {
     "data": {
      "application/vnd.google.colaboratory.intrinsic+json": {
       "type": "string"
      },
      "text/plain": [
       "'27°'"
      ]
     },
     "execution_count": 18,
     "metadata": {},
     "output_type": "execute_result"
    }
   ],
   "source": [
    "daily_high_value[0].text.strip().split()[0]"
   ]
  },
  {
   "cell_type": "code",
   "execution_count": null,
   "metadata": {
    "colab": {
     "base_uri": "https://localhost:8080/"
    },
    "executionInfo": {
     "elapsed": 12,
     "status": "ok",
     "timestamp": 1663064360826,
     "user": {
      "displayName": "Hardik Atri",
      "userId": "00053407545825499605"
     },
     "user_tz": -330
    },
    "id": "dnwlUFE_7QXk",
    "outputId": "5cfd290a-009c-480a-9fe9-0808816230b0"
   },
   "outputs": [
    {
     "data": {
      "text/plain": [
       "['27°',\n",
       " '29°',\n",
       " '28°',\n",
       " '28°',\n",
       " '29°',\n",
       " '31°',\n",
       " '31°',\n",
       " '31°',\n",
       " '31°',\n",
       " '30°',\n",
       " '29°',\n",
       " '29°',\n",
       " '30°',\n",
       " '31°']"
      ]
     },
     "execution_count": 19,
     "metadata": {},
     "output_type": "execute_result"
    }
   ],
   "source": [
    "daily_high_value_list = [daily_high_value[i].text.strip().split()[0] for i in range(len(daily_high_value))]\n",
    "daily_high_value_list"
   ]
  },
  {
   "cell_type": "code",
   "execution_count": null,
   "metadata": {
    "id": "yiQeWfT6-_Pw"
   },
   "outputs": [],
   "source": [
    "daily_low_value_list = [daily_low_value[i].text.strip().split()[0] for i in range(len(daily_low_value))]"
   ]
  },
  {
   "cell_type": "code",
   "execution_count": null,
   "metadata": {
    "colab": {
     "base_uri": "https://localhost:8080/",
     "height": 74
    },
    "executionInfo": {
     "elapsed": 15,
     "status": "ok",
     "timestamp": 1663064430554,
     "user": {
      "displayName": "Hardik Atri",
      "userId": "00053407545825499605"
     },
     "user_tz": -330
    },
    "id": "QsEboK9TXQUk",
    "outputId": "0c3d30d1-1c8e-4dbe-fe40-cbf855c548b6"
   },
   "outputs": [
    {
     "data": {
      "application/vnd.google.colaboratory.intrinsic+json": {
       "type": "string"
      },
      "text/plain": [
       "'Thundery showers and a gentle breezeThundery showers and a moderate breezeThundery showers and a moderate breezeThundery showers and a gentle breezeThundery showers and a gentle breezeLight cloud and a gentle breezeLight cloud and a gentle breezeLight cloud and a gentle breezeLight cloud and a gentle breezeHeavy rain and a gentle breezeThundery showers and a gentle breezeThundery showers and a gentle breezeLight cloud and a gentle breezeLight cloud and a gentle breeze'"
      ]
     },
     "execution_count": 21,
     "metadata": {},
     "output_type": "execute_result"
    }
   ],
   "source": [
    "daily_summary.text"
   ]
  },
  {
   "cell_type": "code",
   "execution_count": null,
   "metadata": {
    "colab": {
     "base_uri": "https://localhost:8080/"
    },
    "executionInfo": {
     "elapsed": 817,
     "status": "ok",
     "timestamp": 1663064853205,
     "user": {
      "displayName": "Hardik Atri",
      "userId": "00053407545825499605"
     },
     "user_tz": -330
    },
    "id": "_lAw8FXHXVEj",
    "outputId": "db16c4e6-ed4c-4fb1-86aa-124df5116dc2"
   },
   "outputs": [
    {
     "data": {
      "text/plain": [
       "['Thundery showers and a gentle breeze',\n",
       " 'Thundery showers and a moderate breeze',\n",
       " 'Thundery showers and a moderate breeze',\n",
       " 'Thundery showers and a gentle breeze',\n",
       " 'Thundery showers and a gentle breeze',\n",
       " 'Light cloud and a gentle breeze',\n",
       " 'Light cloud and a gentle breeze',\n",
       " 'Light cloud and a gentle breeze',\n",
       " 'Light cloud and a gentle breeze',\n",
       " 'Heavy rain and a gentle breeze',\n",
       " 'Thundery showers and a gentle breeze',\n",
       " 'Thundery showers and a gentle breeze',\n",
       " 'Light cloud and a gentle breeze',\n",
       " 'Light cloud and a gentle breeze']"
      ]
     },
     "execution_count": 23,
     "metadata": {},
     "output_type": "execute_result"
    }
   ],
   "source": [
    "daily_summary_list = re.findall('[a-zA-Z][^A-Z]*' , daily_summary.text) # split the string on uppercase\n",
    "daily_summary_list"
   ]
  },
  {
   "cell_type": "markdown",
   "metadata": {
    "id": "EcNnjQxEZX2b"
   },
   "source": [
    "#### Now our data is ready. We just need to put it in a dataframe"
   ]
  },
  {
   "cell_type": "code",
   "execution_count": null,
   "metadata": {
    "colab": {
     "base_uri": "https://localhost:8080/"
    },
    "executionInfo": {
     "elapsed": 459,
     "status": "ok",
     "timestamp": 1663065278352,
     "user": {
      "displayName": "Hardik Atri",
      "userId": "00053407545825499605"
     },
     "user_tz": -330
    },
    "id": "iorzJh6UY4z-",
    "outputId": "369ce479-196e-405d-b780-7abc616db528"
   },
   "outputs": [
    {
     "data": {
      "text/plain": [
       "[Timestamp('2022-09-13 10:34:37.709903', freq='D'),\n",
       " Timestamp('2022-09-14 10:34:37.709903', freq='D'),\n",
       " Timestamp('2022-09-15 10:34:37.709903', freq='D'),\n",
       " Timestamp('2022-09-16 10:34:37.709903', freq='D'),\n",
       " Timestamp('2022-09-17 10:34:37.709903', freq='D'),\n",
       " Timestamp('2022-09-18 10:34:37.709903', freq='D'),\n",
       " Timestamp('2022-09-19 10:34:37.709903', freq='D'),\n",
       " Timestamp('2022-09-20 10:34:37.709903', freq='D'),\n",
       " Timestamp('2022-09-21 10:34:37.709903', freq='D'),\n",
       " Timestamp('2022-09-22 10:34:37.709903', freq='D'),\n",
       " Timestamp('2022-09-23 10:34:37.709903', freq='D'),\n",
       " Timestamp('2022-09-24 10:34:37.709903', freq='D'),\n",
       " Timestamp('2022-09-25 10:34:37.709903', freq='D'),\n",
       " Timestamp('2022-09-26 10:34:37.709903', freq='D')]"
      ]
     },
     "execution_count": 28,
     "metadata": {},
     "output_type": "execute_result"
    }
   ],
   "source": [
    "datelist = pd.date_range(datetime.today(), periods = len(daily_high_value)).tolist()\n",
    "datelist"
   ]
  },
  {
   "cell_type": "code",
   "execution_count": null,
   "metadata": {
    "colab": {
     "base_uri": "https://localhost:8080/"
    },
    "executionInfo": {
     "elapsed": 8,
     "status": "ok",
     "timestamp": 1663065280388,
     "user": {
      "displayName": "Hardik Atri",
      "userId": "00053407545825499605"
     },
     "user_tz": -330
    },
    "id": "vTk9wYTgac-G",
    "outputId": "0f854d69-31cb-416a-d20f-0502b797af23"
   },
   "outputs": [
    {
     "data": {
      "text/plain": [
       "datetime.date(2022, 9, 13)"
      ]
     },
     "execution_count": 29,
     "metadata": {},
     "output_type": "execute_result"
    }
   ],
   "source": [
    "datelist[0].date()"
   ]
  },
  {
   "cell_type": "code",
   "execution_count": null,
   "metadata": {
    "colab": {
     "base_uri": "https://localhost:8080/"
    },
    "executionInfo": {
     "elapsed": 1178,
     "status": "ok",
     "timestamp": 1663065329549,
     "user": {
      "displayName": "Hardik Atri",
      "userId": "00053407545825499605"
     },
     "user_tz": -330
    },
    "id": "duNErgFTZv2_",
    "outputId": "acce8c99-2ffe-48fb-be66-2b2248abc8cf"
   },
   "outputs": [
    {
     "data": {
      "text/plain": [
       "['22-09-13',\n",
       " '22-09-14',\n",
       " '22-09-15',\n",
       " '22-09-16',\n",
       " '22-09-17',\n",
       " '22-09-18',\n",
       " '22-09-19',\n",
       " '22-09-20',\n",
       " '22-09-21',\n",
       " '22-09-22',\n",
       " '22-09-23',\n",
       " '22-09-24',\n",
       " '22-09-25',\n",
       " '22-09-26']"
      ]
     },
     "execution_count": 30,
     "metadata": {},
     "output_type": "execute_result"
    }
   ],
   "source": [
    "datelist = [datelist[i].date().strftime('%y-%m-%d') for i in range(len(datelist))]\n",
    "datelist"
   ]
  },
  {
   "cell_type": "code",
   "execution_count": null,
   "metadata": {
    "colab": {
     "base_uri": "https://localhost:8080/"
    },
    "executionInfo": {
     "elapsed": 7,
     "status": "ok",
     "timestamp": 1663065509786,
     "user": {
      "displayName": "Hardik Atri",
      "userId": "00053407545825499605"
     },
     "user_tz": -330
    },
    "id": "IPscDSw7aVO0",
    "outputId": "4168bb38-55b2-4d85-a820-271b7775acf4"
   },
   "outputs": [
    {
     "data": {
      "text/plain": [
       "<zip at 0x7fbc092671e0>"
      ]
     },
     "execution_count": 32,
     "metadata": {},
     "output_type": "execute_result"
    }
   ],
   "source": [
    "zipped = zip(datelist, daily_high_value_list, daily_low_value_list, daily_summary_list)\n",
    "zipped"
   ]
  },
  {
   "cell_type": "code",
   "execution_count": null,
   "metadata": {
    "colab": {
     "base_uri": "https://localhost:8080/",
     "height": 206
    },
    "executionInfo": {
     "elapsed": 9,
     "status": "ok",
     "timestamp": 1663065524387,
     "user": {
      "displayName": "Hardik Atri",
      "userId": "00053407545825499605"
     },
     "user_tz": -330
    },
    "id": "usdysr5HbJcU",
    "outputId": "64c43a88-cc76-4405-e8ea-31b77716758f"
   },
   "outputs": [
    {
     "data": {
      "text/html": [
       "\n",
       "  <div id=\"df-264f2753-17ab-41bf-b42b-d52e963dfeb5\">\n",
       "    <div class=\"colab-df-container\">\n",
       "      <div>\n",
       "<style scoped>\n",
       "    .dataframe tbody tr th:only-of-type {\n",
       "        vertical-align: middle;\n",
       "    }\n",
       "\n",
       "    .dataframe tbody tr th {\n",
       "        vertical-align: top;\n",
       "    }\n",
       "\n",
       "    .dataframe thead th {\n",
       "        text-align: right;\n",
       "    }\n",
       "</style>\n",
       "<table border=\"1\" class=\"dataframe\">\n",
       "  <thead>\n",
       "    <tr style=\"text-align: right;\">\n",
       "      <th></th>\n",
       "      <th>Date</th>\n",
       "      <th>High</th>\n",
       "      <th>Low</th>\n",
       "      <th>Summary</th>\n",
       "    </tr>\n",
       "  </thead>\n",
       "  <tbody>\n",
       "    <tr>\n",
       "      <th>0</th>\n",
       "      <td>22-09-13</td>\n",
       "      <td>27°</td>\n",
       "      <td>25°</td>\n",
       "      <td>Thundery showers and a gentle breeze</td>\n",
       "    </tr>\n",
       "    <tr>\n",
       "      <th>1</th>\n",
       "      <td>22-09-14</td>\n",
       "      <td>29°</td>\n",
       "      <td>25°</td>\n",
       "      <td>Thundery showers and a moderate breeze</td>\n",
       "    </tr>\n",
       "    <tr>\n",
       "      <th>2</th>\n",
       "      <td>22-09-15</td>\n",
       "      <td>28°</td>\n",
       "      <td>25°</td>\n",
       "      <td>Thundery showers and a moderate breeze</td>\n",
       "    </tr>\n",
       "    <tr>\n",
       "      <th>3</th>\n",
       "      <td>22-09-16</td>\n",
       "      <td>28°</td>\n",
       "      <td>25°</td>\n",
       "      <td>Thundery showers and a gentle breeze</td>\n",
       "    </tr>\n",
       "    <tr>\n",
       "      <th>4</th>\n",
       "      <td>22-09-17</td>\n",
       "      <td>29°</td>\n",
       "      <td>25°</td>\n",
       "      <td>Thundery showers and a gentle breeze</td>\n",
       "    </tr>\n",
       "  </tbody>\n",
       "</table>\n",
       "</div>\n",
       "      <button class=\"colab-df-convert\" onclick=\"convertToInteractive('df-264f2753-17ab-41bf-b42b-d52e963dfeb5')\"\n",
       "              title=\"Convert this dataframe to an interactive table.\"\n",
       "              style=\"display:none;\">\n",
       "        \n",
       "  <svg xmlns=\"http://www.w3.org/2000/svg\" height=\"24px\"viewBox=\"0 0 24 24\"\n",
       "       width=\"24px\">\n",
       "    <path d=\"M0 0h24v24H0V0z\" fill=\"none\"/>\n",
       "    <path d=\"M18.56 5.44l.94 2.06.94-2.06 2.06-.94-2.06-.94-.94-2.06-.94 2.06-2.06.94zm-11 1L8.5 8.5l.94-2.06 2.06-.94-2.06-.94L8.5 2.5l-.94 2.06-2.06.94zm10 10l.94 2.06.94-2.06 2.06-.94-2.06-.94-.94-2.06-.94 2.06-2.06.94z\"/><path d=\"M17.41 7.96l-1.37-1.37c-.4-.4-.92-.59-1.43-.59-.52 0-1.04.2-1.43.59L10.3 9.45l-7.72 7.72c-.78.78-.78 2.05 0 2.83L4 21.41c.39.39.9.59 1.41.59.51 0 1.02-.2 1.41-.59l7.78-7.78 2.81-2.81c.8-.78.8-2.07 0-2.86zM5.41 20L4 18.59l7.72-7.72 1.47 1.35L5.41 20z\"/>\n",
       "  </svg>\n",
       "      </button>\n",
       "      \n",
       "  <style>\n",
       "    .colab-df-container {\n",
       "      display:flex;\n",
       "      flex-wrap:wrap;\n",
       "      gap: 12px;\n",
       "    }\n",
       "\n",
       "    .colab-df-convert {\n",
       "      background-color: #E8F0FE;\n",
       "      border: none;\n",
       "      border-radius: 50%;\n",
       "      cursor: pointer;\n",
       "      display: none;\n",
       "      fill: #1967D2;\n",
       "      height: 32px;\n",
       "      padding: 0 0 0 0;\n",
       "      width: 32px;\n",
       "    }\n",
       "\n",
       "    .colab-df-convert:hover {\n",
       "      background-color: #E2EBFA;\n",
       "      box-shadow: 0px 1px 2px rgba(60, 64, 67, 0.3), 0px 1px 3px 1px rgba(60, 64, 67, 0.15);\n",
       "      fill: #174EA6;\n",
       "    }\n",
       "\n",
       "    [theme=dark] .colab-df-convert {\n",
       "      background-color: #3B4455;\n",
       "      fill: #D2E3FC;\n",
       "    }\n",
       "\n",
       "    [theme=dark] .colab-df-convert:hover {\n",
       "      background-color: #434B5C;\n",
       "      box-shadow: 0px 1px 3px 1px rgba(0, 0, 0, 0.15);\n",
       "      filter: drop-shadow(0px 1px 2px rgba(0, 0, 0, 0.3));\n",
       "      fill: #FFFFFF;\n",
       "    }\n",
       "  </style>\n",
       "\n",
       "      <script>\n",
       "        const buttonEl =\n",
       "          document.querySelector('#df-264f2753-17ab-41bf-b42b-d52e963dfeb5 button.colab-df-convert');\n",
       "        buttonEl.style.display =\n",
       "          google.colab.kernel.accessAllowed ? 'block' : 'none';\n",
       "\n",
       "        async function convertToInteractive(key) {\n",
       "          const element = document.querySelector('#df-264f2753-17ab-41bf-b42b-d52e963dfeb5');\n",
       "          const dataTable =\n",
       "            await google.colab.kernel.invokeFunction('convertToInteractive',\n",
       "                                                     [key], {});\n",
       "          if (!dataTable) return;\n",
       "\n",
       "          const docLinkHtml = 'Like what you see? Visit the ' +\n",
       "            '<a target=\"_blank\" href=https://colab.research.google.com/notebooks/data_table.ipynb>data table notebook</a>'\n",
       "            + ' to learn more about interactive tables.';\n",
       "          element.innerHTML = '';\n",
       "          dataTable['output_type'] = 'display_data';\n",
       "          await google.colab.output.renderOutput(dataTable, element);\n",
       "          const docLink = document.createElement('div');\n",
       "          docLink.innerHTML = docLinkHtml;\n",
       "          element.appendChild(docLink);\n",
       "        }\n",
       "      </script>\n",
       "    </div>\n",
       "  </div>\n",
       "  "
      ],
      "text/plain": [
       "       Date High  Low                                 Summary\n",
       "0  22-09-13  27°  25°    Thundery showers and a gentle breeze\n",
       "1  22-09-14  29°  25°  Thundery showers and a moderate breeze\n",
       "2  22-09-15  28°  25°  Thundery showers and a moderate breeze\n",
       "3  22-09-16  28°  25°    Thundery showers and a gentle breeze\n",
       "4  22-09-17  29°  25°    Thundery showers and a gentle breeze"
      ]
     },
     "execution_count": 33,
     "metadata": {},
     "output_type": "execute_result"
    }
   ],
   "source": [
    "df = pd.DataFrame(list(zipped), columns = ['Date', 'High', 'Low', 'Summary'])\n",
    "df.head()"
   ]
  },
  {
   "cell_type": "code",
   "execution_count": null,
   "metadata": {
    "id": "7KWyp6AIbgKS"
   },
   "outputs": [],
   "source": [
    "df['High'] = df['High'].replace('°', \"\", regex = True ).astype(np.float64)  # remove degree symbol"
   ]
  },
  {
   "cell_type": "code",
   "execution_count": null,
   "metadata": {
    "id": "y2b4T2N9eD40"
   },
   "outputs": [],
   "source": [
    "df['Low'] = df['Low'].replace('°', \"\", regex = True ).astype(np.float64)"
   ]
  },
  {
   "cell_type": "code",
   "execution_count": null,
   "metadata": {
    "colab": {
     "base_uri": "https://localhost:8080/",
     "height": 143
    },
    "executionInfo": {
     "elapsed": 11,
     "status": "ok",
     "timestamp": 1663066256753,
     "user": {
      "displayName": "Hardik Atri",
      "userId": "00053407545825499605"
     },
     "user_tz": -330
    },
    "id": "lf4nbSBieIs1",
    "outputId": "de31805b-1de7-4387-b374-844c8766335a"
   },
   "outputs": [
    {
     "data": {
      "text/html": [
       "\n",
       "  <div id=\"df-55613ec7-ca7e-4362-be6a-a9d249a8aacd\">\n",
       "    <div class=\"colab-df-container\">\n",
       "      <div>\n",
       "<style scoped>\n",
       "    .dataframe tbody tr th:only-of-type {\n",
       "        vertical-align: middle;\n",
       "    }\n",
       "\n",
       "    .dataframe tbody tr th {\n",
       "        vertical-align: top;\n",
       "    }\n",
       "\n",
       "    .dataframe thead th {\n",
       "        text-align: right;\n",
       "    }\n",
       "</style>\n",
       "<table border=\"1\" class=\"dataframe\">\n",
       "  <thead>\n",
       "    <tr style=\"text-align: right;\">\n",
       "      <th></th>\n",
       "      <th>Date</th>\n",
       "      <th>High</th>\n",
       "      <th>Low</th>\n",
       "      <th>Summary</th>\n",
       "    </tr>\n",
       "  </thead>\n",
       "  <tbody>\n",
       "    <tr>\n",
       "      <th>0</th>\n",
       "      <td>22-09-13</td>\n",
       "      <td>27.0</td>\n",
       "      <td>25.0</td>\n",
       "      <td>Thundery showers and a gentle breeze</td>\n",
       "    </tr>\n",
       "    <tr>\n",
       "      <th>1</th>\n",
       "      <td>22-09-14</td>\n",
       "      <td>29.0</td>\n",
       "      <td>25.0</td>\n",
       "      <td>Thundery showers and a moderate breeze</td>\n",
       "    </tr>\n",
       "    <tr>\n",
       "      <th>2</th>\n",
       "      <td>22-09-15</td>\n",
       "      <td>28.0</td>\n",
       "      <td>25.0</td>\n",
       "      <td>Thundery showers and a moderate breeze</td>\n",
       "    </tr>\n",
       "  </tbody>\n",
       "</table>\n",
       "</div>\n",
       "      <button class=\"colab-df-convert\" onclick=\"convertToInteractive('df-55613ec7-ca7e-4362-be6a-a9d249a8aacd')\"\n",
       "              title=\"Convert this dataframe to an interactive table.\"\n",
       "              style=\"display:none;\">\n",
       "        \n",
       "  <svg xmlns=\"http://www.w3.org/2000/svg\" height=\"24px\"viewBox=\"0 0 24 24\"\n",
       "       width=\"24px\">\n",
       "    <path d=\"M0 0h24v24H0V0z\" fill=\"none\"/>\n",
       "    <path d=\"M18.56 5.44l.94 2.06.94-2.06 2.06-.94-2.06-.94-.94-2.06-.94 2.06-2.06.94zm-11 1L8.5 8.5l.94-2.06 2.06-.94-2.06-.94L8.5 2.5l-.94 2.06-2.06.94zm10 10l.94 2.06.94-2.06 2.06-.94-2.06-.94-.94-2.06-.94 2.06-2.06.94z\"/><path d=\"M17.41 7.96l-1.37-1.37c-.4-.4-.92-.59-1.43-.59-.52 0-1.04.2-1.43.59L10.3 9.45l-7.72 7.72c-.78.78-.78 2.05 0 2.83L4 21.41c.39.39.9.59 1.41.59.51 0 1.02-.2 1.41-.59l7.78-7.78 2.81-2.81c.8-.78.8-2.07 0-2.86zM5.41 20L4 18.59l7.72-7.72 1.47 1.35L5.41 20z\"/>\n",
       "  </svg>\n",
       "      </button>\n",
       "      \n",
       "  <style>\n",
       "    .colab-df-container {\n",
       "      display:flex;\n",
       "      flex-wrap:wrap;\n",
       "      gap: 12px;\n",
       "    }\n",
       "\n",
       "    .colab-df-convert {\n",
       "      background-color: #E8F0FE;\n",
       "      border: none;\n",
       "      border-radius: 50%;\n",
       "      cursor: pointer;\n",
       "      display: none;\n",
       "      fill: #1967D2;\n",
       "      height: 32px;\n",
       "      padding: 0 0 0 0;\n",
       "      width: 32px;\n",
       "    }\n",
       "\n",
       "    .colab-df-convert:hover {\n",
       "      background-color: #E2EBFA;\n",
       "      box-shadow: 0px 1px 2px rgba(60, 64, 67, 0.3), 0px 1px 3px 1px rgba(60, 64, 67, 0.15);\n",
       "      fill: #174EA6;\n",
       "    }\n",
       "\n",
       "    [theme=dark] .colab-df-convert {\n",
       "      background-color: #3B4455;\n",
       "      fill: #D2E3FC;\n",
       "    }\n",
       "\n",
       "    [theme=dark] .colab-df-convert:hover {\n",
       "      background-color: #434B5C;\n",
       "      box-shadow: 0px 1px 3px 1px rgba(0, 0, 0, 0.15);\n",
       "      filter: drop-shadow(0px 1px 2px rgba(0, 0, 0, 0.3));\n",
       "      fill: #FFFFFF;\n",
       "    }\n",
       "  </style>\n",
       "\n",
       "      <script>\n",
       "        const buttonEl =\n",
       "          document.querySelector('#df-55613ec7-ca7e-4362-be6a-a9d249a8aacd button.colab-df-convert');\n",
       "        buttonEl.style.display =\n",
       "          google.colab.kernel.accessAllowed ? 'block' : 'none';\n",
       "\n",
       "        async function convertToInteractive(key) {\n",
       "          const element = document.querySelector('#df-55613ec7-ca7e-4362-be6a-a9d249a8aacd');\n",
       "          const dataTable =\n",
       "            await google.colab.kernel.invokeFunction('convertToInteractive',\n",
       "                                                     [key], {});\n",
       "          if (!dataTable) return;\n",
       "\n",
       "          const docLinkHtml = 'Like what you see? Visit the ' +\n",
       "            '<a target=\"_blank\" href=https://colab.research.google.com/notebooks/data_table.ipynb>data table notebook</a>'\n",
       "            + ' to learn more about interactive tables.';\n",
       "          element.innerHTML = '';\n",
       "          dataTable['output_type'] = 'display_data';\n",
       "          await google.colab.output.renderOutput(dataTable, element);\n",
       "          const docLink = document.createElement('div');\n",
       "          docLink.innerHTML = docLinkHtml;\n",
       "          element.appendChild(docLink);\n",
       "        }\n",
       "      </script>\n",
       "    </div>\n",
       "  </div>\n",
       "  "
      ],
      "text/plain": [
       "       Date  High   Low                                 Summary\n",
       "0  22-09-13  27.0  25.0    Thundery showers and a gentle breeze\n",
       "1  22-09-14  29.0  25.0  Thundery showers and a moderate breeze\n",
       "2  22-09-15  28.0  25.0  Thundery showers and a moderate breeze"
      ]
     },
     "execution_count": 37,
     "metadata": {},
     "output_type": "execute_result"
    }
   ],
   "source": [
    "df.head(3)"
   ]
  },
  {
   "cell_type": "markdown",
   "metadata": {
    "id": "rGaztkVteVvn"
   },
   "source": [
    "#### Extract the name of city for which data is gathered"
   ]
  },
  {
   "cell_type": "code",
   "execution_count": null,
   "metadata": {
    "colab": {
     "base_uri": "https://localhost:8080/"
    },
    "executionInfo": {
     "elapsed": 473,
     "status": "ok",
     "timestamp": 1663066393452,
     "user": {
      "displayName": "Hardik Atri",
      "userId": "00053407545825499605"
     },
     "user_tz": -330
    },
    "id": "2mVvlspieJbo",
    "outputId": "cababa4d-80e6-48a8-dc9a-a27c47596c8e"
   },
   "outputs": [
    {
     "data": {
      "text/plain": [
       "['Mumbai', '-', 'Weather', 'warnings', 'issued']"
      ]
     },
     "execution_count": 38,
     "metadata": {},
     "output_type": "execute_result"
    }
   ],
   "source": [
    "location = soup.find('h1' , attrs =  {'id': 'wr-location-name-id'})\n",
    "location.text.split()"
   ]
  },
  {
   "cell_type": "markdown",
   "metadata": {
    "id": "3YgQG9Kse64x"
   },
   "source": [
    "#### Saving file in csv format"
   ]
  },
  {
   "cell_type": "code",
   "execution_count": null,
   "metadata": {
    "id": "kBqKSC1ze0XR"
   },
   "outputs": [],
   "source": [
    "filename_csv = location.text.split()[0] + \".csv\"\n",
    "df.to_csv(filename_csv , index = None)"
   ]
  },
  {
   "cell_type": "markdown",
   "metadata": {
    "id": "-uxYwlX0kd2l",
    "tags": []
   },
   "source": [
    "# IMDb web scraping\n",
    "\n",
    "Our goal is to convert the top 250 list of movies in IMDb into a tabular form using python."
   ]
  },
  {
   "cell_type": "code",
   "execution_count": null,
   "metadata": {
    "id": "UCHXTjd_kykr"
   },
   "outputs": [],
   "source": [
    "from bs4 import BeautifulSoup as bs\n",
    "import requests\n",
    "import pandas as pd"
   ]
  },
  {
   "cell_type": "code",
   "execution_count": null,
   "metadata": {
    "id": "zWn4ZB9-lBlg"
   },
   "outputs": [],
   "source": [
    "r = requests.get('https://www.imdb.com/chart/top/')\n",
    "\n",
    "# convert to a beautiful soup object\n",
    "soup = bs(r.content)\n",
    "\n",
    "# Print out HTML\n",
    "contents = soup.prettify()\n",
    "print(contents)"
   ]
  },
  {
   "cell_type": "code",
   "execution_count": null,
   "metadata": {
    "id": "V9UKhG0Nlues"
   },
   "outputs": [],
   "source": [
    "movie_title = []\n",
    "movie_year = []\n",
    "movie_rating = []\n"
   ]
  },
  {
   "cell_type": "markdown",
   "metadata": {
    "id": "3neIy8X7mDAg"
   },
   "source": [
    "#### Extract HTML tag contents"
   ]
  },
  {
   "cell_type": "code",
   "execution_count": null,
   "metadata": {
    "id": "511tH3BmmBRK"
   },
   "outputs": [],
   "source": [
    "imdb_table = soup.find(class_ = 'chart full-width')"
   ]
  },
  {
   "cell_type": "code",
   "execution_count": null,
   "metadata": {
    "id": "G4PH1IkUoA0V"
   },
   "outputs": [],
   "source": [
    "# Now we will search under imdb_table\n",
    "\n",
    "movie_titlecolumn = imdb_table.find_all( class_ = 'titleColumn')"
   ]
  },
  {
   "cell_type": "code",
   "execution_count": null,
   "metadata": {
    "id": "0dhOG0kToiUQ"
   },
   "outputs": [],
   "source": [
    "movie_ratingcolumn = imdb_table.find_all( class_ = 'ratingColumn imdbRating')"
   ]
  },
  {
   "cell_type": "code",
   "execution_count": null,
   "metadata": {
    "colab": {
     "base_uri": "https://localhost:8080/"
    },
    "executionInfo": {
     "elapsed": 14,
     "status": "ok",
     "timestamp": 1663220129803,
     "user": {
      "displayName": "Hardik Atri",
      "userId": "00053407545825499605"
     },
     "user_tz": -330
    },
    "id": "FUnv7DiVo1JF",
    "outputId": "2fd6ae85-6eba-4875-98ee-f0279c677711"
   },
   "outputs": [
    {
     "data": {
      "text/plain": [
       "['The Shawshank Redemption',\n",
       " 'The Godfather',\n",
       " 'The Dark Knight',\n",
       " 'The Godfather Part II',\n",
       " '12 Angry Men']"
      ]
     },
     "execution_count": 7,
     "metadata": {},
     "output_type": "execute_result"
    }
   ],
   "source": [
    "for row in movie_titlecolumn:\n",
    "    title = row.a.text          # 'a' represent tag as title is contained under <a href > tag\n",
    "    movie_title.append(title)\n",
    "\n",
    "movie_title[:5]"
   ]
  },
  {
   "cell_type": "code",
   "execution_count": null,
   "metadata": {
    "colab": {
     "base_uri": "https://localhost:8080/"
    },
    "executionInfo": {
     "elapsed": 17,
     "status": "ok",
     "timestamp": 1663220247084,
     "user": {
      "displayName": "Hardik Atri",
      "userId": "00053407545825499605"
     },
     "user_tz": -330
    },
    "id": "PbLmM_IBpRiS",
    "outputId": "dcfea169-691b-4a05-b6e2-47fee2faad2e"
   },
   "outputs": [
    {
     "data": {
      "text/plain": [
       "['(1994)', '(1972)', '(2008)', '(1974)', '(1957)']"
      ]
     },
     "execution_count": 8,
     "metadata": {},
     "output_type": "execute_result"
    }
   ],
   "source": [
    "for row in movie_titlecolumn:\n",
    "    year = row.span.text                  # span represents tag under class = 'titleColumn'\n",
    "    movie_year.append(year)\n",
    "\n",
    "movie_year[:5]"
   ]
  },
  {
   "cell_type": "code",
   "execution_count": null,
   "metadata": {
    "colab": {
     "base_uri": "https://localhost:8080/"
    },
    "executionInfo": {
     "elapsed": 6,
     "status": "ok",
     "timestamp": 1663220528519,
     "user": {
      "displayName": "Hardik Atri",
      "userId": "00053407545825499605"
     },
     "user_tz": -330
    },
    "id": "IZ4rdMdRpuQx",
    "outputId": "3e2b56a6-5819-40e7-9beb-3a4c18d6dd4b"
   },
   "outputs": [
    {
     "data": {
      "text/plain": [
       "['9.2', '9.2', '9.0', '9.0', '8.9']"
      ]
     },
     "execution_count": 9,
     "metadata": {},
     "output_type": "execute_result"
    }
   ],
   "source": [
    "for row in movie_ratingcolumn:\n",
    "    rating = row.strong.text              # strong represents tag under class = 'ratingColumn imdbRating'\n",
    "    movie_rating.append(rating)\n",
    "\n",
    "movie_rating[:5]"
   ]
  },
  {
   "cell_type": "markdown",
   "metadata": {
    "id": "Eotd87GMrD1t"
   },
   "source": [
    "#### Creating a DataFrame"
   ]
  },
  {
   "cell_type": "code",
   "execution_count": null,
   "metadata": {
    "id": "OtMT4xXqqzAo"
   },
   "outputs": [],
   "source": [
    "movie_df = pd.DataFrame({'Movie Title': movie_title,\n",
    "                         'Year of Release' : movie_year,\n",
    "                         'IMDb Rating' : movie_rating})"
   ]
  },
  {
   "cell_type": "code",
   "execution_count": null,
   "metadata": {
    "colab": {
     "base_uri": "https://localhost:8080/",
     "height": 206
    },
    "executionInfo": {
     "elapsed": 5,
     "status": "ok",
     "timestamp": 1663220763996,
     "user": {
      "displayName": "Hardik Atri",
      "userId": "00053407545825499605"
     },
     "user_tz": -330
    },
    "id": "nezBixohrqBc",
    "outputId": "89124c86-ac82-4868-d809-de07656bb40e"
   },
   "outputs": [
    {
     "data": {
      "text/html": [
       "\n",
       "  <div id=\"df-99c8f990-786e-4db3-8227-0557eb92d8f4\">\n",
       "    <div class=\"colab-df-container\">\n",
       "      <div>\n",
       "<style scoped>\n",
       "    .dataframe tbody tr th:only-of-type {\n",
       "        vertical-align: middle;\n",
       "    }\n",
       "\n",
       "    .dataframe tbody tr th {\n",
       "        vertical-align: top;\n",
       "    }\n",
       "\n",
       "    .dataframe thead th {\n",
       "        text-align: right;\n",
       "    }\n",
       "</style>\n",
       "<table border=\"1\" class=\"dataframe\">\n",
       "  <thead>\n",
       "    <tr style=\"text-align: right;\">\n",
       "      <th></th>\n",
       "      <th>Movie Title</th>\n",
       "      <th>Year of Release</th>\n",
       "      <th>IMDb Rating</th>\n",
       "    </tr>\n",
       "  </thead>\n",
       "  <tbody>\n",
       "    <tr>\n",
       "      <th>0</th>\n",
       "      <td>The Shawshank Redemption</td>\n",
       "      <td>(1994)</td>\n",
       "      <td>9.2</td>\n",
       "    </tr>\n",
       "    <tr>\n",
       "      <th>1</th>\n",
       "      <td>The Godfather</td>\n",
       "      <td>(1972)</td>\n",
       "      <td>9.2</td>\n",
       "    </tr>\n",
       "    <tr>\n",
       "      <th>2</th>\n",
       "      <td>The Dark Knight</td>\n",
       "      <td>(2008)</td>\n",
       "      <td>9.0</td>\n",
       "    </tr>\n",
       "    <tr>\n",
       "      <th>3</th>\n",
       "      <td>The Godfather Part II</td>\n",
       "      <td>(1974)</td>\n",
       "      <td>9.0</td>\n",
       "    </tr>\n",
       "    <tr>\n",
       "      <th>4</th>\n",
       "      <td>12 Angry Men</td>\n",
       "      <td>(1957)</td>\n",
       "      <td>8.9</td>\n",
       "    </tr>\n",
       "  </tbody>\n",
       "</table>\n",
       "</div>\n",
       "      <button class=\"colab-df-convert\" onclick=\"convertToInteractive('df-99c8f990-786e-4db3-8227-0557eb92d8f4')\"\n",
       "              title=\"Convert this dataframe to an interactive table.\"\n",
       "              style=\"display:none;\">\n",
       "        \n",
       "  <svg xmlns=\"http://www.w3.org/2000/svg\" height=\"24px\"viewBox=\"0 0 24 24\"\n",
       "       width=\"24px\">\n",
       "    <path d=\"M0 0h24v24H0V0z\" fill=\"none\"/>\n",
       "    <path d=\"M18.56 5.44l.94 2.06.94-2.06 2.06-.94-2.06-.94-.94-2.06-.94 2.06-2.06.94zm-11 1L8.5 8.5l.94-2.06 2.06-.94-2.06-.94L8.5 2.5l-.94 2.06-2.06.94zm10 10l.94 2.06.94-2.06 2.06-.94-2.06-.94-.94-2.06-.94 2.06-2.06.94z\"/><path d=\"M17.41 7.96l-1.37-1.37c-.4-.4-.92-.59-1.43-.59-.52 0-1.04.2-1.43.59L10.3 9.45l-7.72 7.72c-.78.78-.78 2.05 0 2.83L4 21.41c.39.39.9.59 1.41.59.51 0 1.02-.2 1.41-.59l7.78-7.78 2.81-2.81c.8-.78.8-2.07 0-2.86zM5.41 20L4 18.59l7.72-7.72 1.47 1.35L5.41 20z\"/>\n",
       "  </svg>\n",
       "      </button>\n",
       "      \n",
       "  <style>\n",
       "    .colab-df-container {\n",
       "      display:flex;\n",
       "      flex-wrap:wrap;\n",
       "      gap: 12px;\n",
       "    }\n",
       "\n",
       "    .colab-df-convert {\n",
       "      background-color: #E8F0FE;\n",
       "      border: none;\n",
       "      border-radius: 50%;\n",
       "      cursor: pointer;\n",
       "      display: none;\n",
       "      fill: #1967D2;\n",
       "      height: 32px;\n",
       "      padding: 0 0 0 0;\n",
       "      width: 32px;\n",
       "    }\n",
       "\n",
       "    .colab-df-convert:hover {\n",
       "      background-color: #E2EBFA;\n",
       "      box-shadow: 0px 1px 2px rgba(60, 64, 67, 0.3), 0px 1px 3px 1px rgba(60, 64, 67, 0.15);\n",
       "      fill: #174EA6;\n",
       "    }\n",
       "\n",
       "    [theme=dark] .colab-df-convert {\n",
       "      background-color: #3B4455;\n",
       "      fill: #D2E3FC;\n",
       "    }\n",
       "\n",
       "    [theme=dark] .colab-df-convert:hover {\n",
       "      background-color: #434B5C;\n",
       "      box-shadow: 0px 1px 3px 1px rgba(0, 0, 0, 0.15);\n",
       "      filter: drop-shadow(0px 1px 2px rgba(0, 0, 0, 0.3));\n",
       "      fill: #FFFFFF;\n",
       "    }\n",
       "  </style>\n",
       "\n",
       "      <script>\n",
       "        const buttonEl =\n",
       "          document.querySelector('#df-99c8f990-786e-4db3-8227-0557eb92d8f4 button.colab-df-convert');\n",
       "        buttonEl.style.display =\n",
       "          google.colab.kernel.accessAllowed ? 'block' : 'none';\n",
       "\n",
       "        async function convertToInteractive(key) {\n",
       "          const element = document.querySelector('#df-99c8f990-786e-4db3-8227-0557eb92d8f4');\n",
       "          const dataTable =\n",
       "            await google.colab.kernel.invokeFunction('convertToInteractive',\n",
       "                                                     [key], {});\n",
       "          if (!dataTable) return;\n",
       "\n",
       "          const docLinkHtml = 'Like what you see? Visit the ' +\n",
       "            '<a target=\"_blank\" href=https://colab.research.google.com/notebooks/data_table.ipynb>data table notebook</a>'\n",
       "            + ' to learn more about interactive tables.';\n",
       "          element.innerHTML = '';\n",
       "          dataTable['output_type'] = 'display_data';\n",
       "          await google.colab.output.renderOutput(dataTable, element);\n",
       "          const docLink = document.createElement('div');\n",
       "          docLink.innerHTML = docLinkHtml;\n",
       "          element.appendChild(docLink);\n",
       "        }\n",
       "      </script>\n",
       "    </div>\n",
       "  </div>\n",
       "  "
      ],
      "text/plain": [
       "                Movie Title Year of Release IMDb Rating\n",
       "0  The Shawshank Redemption          (1994)         9.2\n",
       "1             The Godfather          (1972)         9.2\n",
       "2           The Dark Knight          (2008)         9.0\n",
       "3     The Godfather Part II          (1974)         9.0\n",
       "4              12 Angry Men          (1957)         8.9"
      ]
     },
     "execution_count": 11,
     "metadata": {},
     "output_type": "execute_result"
    }
   ],
   "source": [
    "movie_df.head()"
   ]
  },
  {
   "cell_type": "code",
   "execution_count": null,
   "metadata": {
    "id": "JyNrzqYErsRS"
   },
   "outputs": [],
   "source": [
    "movie_df['Year of Release'] = movie_df['Year of Release'].str.strip('()').astype(int)"
   ]
  },
  {
   "cell_type": "code",
   "execution_count": null,
   "metadata": {
    "id": "wH9PdxljtVCw"
   },
   "outputs": [],
   "source": [
    "movie_df['IMDb Rating'] = movie_df['IMDb Rating'].astype(float)"
   ]
  },
  {
   "cell_type": "code",
   "execution_count": null,
   "metadata": {
    "colab": {
     "base_uri": "https://localhost:8080/",
     "height": 206
    },
    "executionInfo": {
     "elapsed": 14,
     "status": "ok",
     "timestamp": 1663221377021,
     "user": {
      "displayName": "Hardik Atri",
      "userId": "00053407545825499605"
     },
     "user_tz": -330
    },
    "id": "Hxeat6BAtqJZ",
    "outputId": "a6502866-2b2c-471a-997d-5fc0a43d784d"
   },
   "outputs": [
    {
     "data": {
      "text/html": [
       "\n",
       "  <div id=\"df-fd14f8ef-b05e-4ce9-9f19-a47a17f6d135\">\n",
       "    <div class=\"colab-df-container\">\n",
       "      <div>\n",
       "<style scoped>\n",
       "    .dataframe tbody tr th:only-of-type {\n",
       "        vertical-align: middle;\n",
       "    }\n",
       "\n",
       "    .dataframe tbody tr th {\n",
       "        vertical-align: top;\n",
       "    }\n",
       "\n",
       "    .dataframe thead th {\n",
       "        text-align: right;\n",
       "    }\n",
       "</style>\n",
       "<table border=\"1\" class=\"dataframe\">\n",
       "  <thead>\n",
       "    <tr style=\"text-align: right;\">\n",
       "      <th></th>\n",
       "      <th>Movie Title</th>\n",
       "      <th>Year of Release</th>\n",
       "      <th>IMDb Rating</th>\n",
       "    </tr>\n",
       "  </thead>\n",
       "  <tbody>\n",
       "    <tr>\n",
       "      <th>0</th>\n",
       "      <td>The Shawshank Redemption</td>\n",
       "      <td>1994</td>\n",
       "      <td>9.2</td>\n",
       "    </tr>\n",
       "    <tr>\n",
       "      <th>1</th>\n",
       "      <td>The Godfather</td>\n",
       "      <td>1972</td>\n",
       "      <td>9.2</td>\n",
       "    </tr>\n",
       "    <tr>\n",
       "      <th>2</th>\n",
       "      <td>The Dark Knight</td>\n",
       "      <td>2008</td>\n",
       "      <td>9.0</td>\n",
       "    </tr>\n",
       "    <tr>\n",
       "      <th>3</th>\n",
       "      <td>The Godfather Part II</td>\n",
       "      <td>1974</td>\n",
       "      <td>9.0</td>\n",
       "    </tr>\n",
       "    <tr>\n",
       "      <th>4</th>\n",
       "      <td>12 Angry Men</td>\n",
       "      <td>1957</td>\n",
       "      <td>8.9</td>\n",
       "    </tr>\n",
       "  </tbody>\n",
       "</table>\n",
       "</div>\n",
       "      <button class=\"colab-df-convert\" onclick=\"convertToInteractive('df-fd14f8ef-b05e-4ce9-9f19-a47a17f6d135')\"\n",
       "              title=\"Convert this dataframe to an interactive table.\"\n",
       "              style=\"display:none;\">\n",
       "        \n",
       "  <svg xmlns=\"http://www.w3.org/2000/svg\" height=\"24px\"viewBox=\"0 0 24 24\"\n",
       "       width=\"24px\">\n",
       "    <path d=\"M0 0h24v24H0V0z\" fill=\"none\"/>\n",
       "    <path d=\"M18.56 5.44l.94 2.06.94-2.06 2.06-.94-2.06-.94-.94-2.06-.94 2.06-2.06.94zm-11 1L8.5 8.5l.94-2.06 2.06-.94-2.06-.94L8.5 2.5l-.94 2.06-2.06.94zm10 10l.94 2.06.94-2.06 2.06-.94-2.06-.94-.94-2.06-.94 2.06-2.06.94z\"/><path d=\"M17.41 7.96l-1.37-1.37c-.4-.4-.92-.59-1.43-.59-.52 0-1.04.2-1.43.59L10.3 9.45l-7.72 7.72c-.78.78-.78 2.05 0 2.83L4 21.41c.39.39.9.59 1.41.59.51 0 1.02-.2 1.41-.59l7.78-7.78 2.81-2.81c.8-.78.8-2.07 0-2.86zM5.41 20L4 18.59l7.72-7.72 1.47 1.35L5.41 20z\"/>\n",
       "  </svg>\n",
       "      </button>\n",
       "      \n",
       "  <style>\n",
       "    .colab-df-container {\n",
       "      display:flex;\n",
       "      flex-wrap:wrap;\n",
       "      gap: 12px;\n",
       "    }\n",
       "\n",
       "    .colab-df-convert {\n",
       "      background-color: #E8F0FE;\n",
       "      border: none;\n",
       "      border-radius: 50%;\n",
       "      cursor: pointer;\n",
       "      display: none;\n",
       "      fill: #1967D2;\n",
       "      height: 32px;\n",
       "      padding: 0 0 0 0;\n",
       "      width: 32px;\n",
       "    }\n",
       "\n",
       "    .colab-df-convert:hover {\n",
       "      background-color: #E2EBFA;\n",
       "      box-shadow: 0px 1px 2px rgba(60, 64, 67, 0.3), 0px 1px 3px 1px rgba(60, 64, 67, 0.15);\n",
       "      fill: #174EA6;\n",
       "    }\n",
       "\n",
       "    [theme=dark] .colab-df-convert {\n",
       "      background-color: #3B4455;\n",
       "      fill: #D2E3FC;\n",
       "    }\n",
       "\n",
       "    [theme=dark] .colab-df-convert:hover {\n",
       "      background-color: #434B5C;\n",
       "      box-shadow: 0px 1px 3px 1px rgba(0, 0, 0, 0.15);\n",
       "      filter: drop-shadow(0px 1px 2px rgba(0, 0, 0, 0.3));\n",
       "      fill: #FFFFFF;\n",
       "    }\n",
       "  </style>\n",
       "\n",
       "      <script>\n",
       "        const buttonEl =\n",
       "          document.querySelector('#df-fd14f8ef-b05e-4ce9-9f19-a47a17f6d135 button.colab-df-convert');\n",
       "        buttonEl.style.display =\n",
       "          google.colab.kernel.accessAllowed ? 'block' : 'none';\n",
       "\n",
       "        async function convertToInteractive(key) {\n",
       "          const element = document.querySelector('#df-fd14f8ef-b05e-4ce9-9f19-a47a17f6d135');\n",
       "          const dataTable =\n",
       "            await google.colab.kernel.invokeFunction('convertToInteractive',\n",
       "                                                     [key], {});\n",
       "          if (!dataTable) return;\n",
       "\n",
       "          const docLinkHtml = 'Like what you see? Visit the ' +\n",
       "            '<a target=\"_blank\" href=https://colab.research.google.com/notebooks/data_table.ipynb>data table notebook</a>'\n",
       "            + ' to learn more about interactive tables.';\n",
       "          element.innerHTML = '';\n",
       "          dataTable['output_type'] = 'display_data';\n",
       "          await google.colab.output.renderOutput(dataTable, element);\n",
       "          const docLink = document.createElement('div');\n",
       "          docLink.innerHTML = docLinkHtml;\n",
       "          element.appendChild(docLink);\n",
       "        }\n",
       "      </script>\n",
       "    </div>\n",
       "  </div>\n",
       "  "
      ],
      "text/plain": [
       "                Movie Title  Year of Release  IMDb Rating\n",
       "0  The Shawshank Redemption             1994          9.2\n",
       "1             The Godfather             1972          9.2\n",
       "2           The Dark Knight             2008          9.0\n",
       "3     The Godfather Part II             1974          9.0\n",
       "4              12 Angry Men             1957          8.9"
      ]
     },
     "execution_count": 26,
     "metadata": {},
     "output_type": "execute_result"
    }
   ],
   "source": [
    "movie_df.head()"
   ]
  },
  {
   "cell_type": "code",
   "execution_count": null,
   "metadata": {
    "id": "e6QfmupmuCCp"
   },
   "outputs": [],
   "source": []
  },
  {
   "cell_type": "code",
   "execution_count": null,
   "metadata": {
    "id": "PV9K63dZyek4"
   },
   "outputs": [],
   "source": []
  }
 ],
 "metadata": {
  "colab": {
   "authorship_tag": "ABX9TyMC0xFRy9g8P2/k1guxqNbc",
   "collapsed_sections": [],
   "provenance": []
  },
  "kernelspec": {
   "display_name": "Python 3",
   "language": "python",
   "name": "python3"
  },
  "language_info": {
   "codemirror_mode": {
    "name": "ipython",
    "version": 3
   },
   "file_extension": ".py",
   "mimetype": "text/x-python",
   "name": "python",
   "nbconvert_exporter": "python",
   "pygments_lexer": "ipython3",
   "version": "3.9.7"
  }
 },
 "nbformat": 4,
 "nbformat_minor": 4
}
