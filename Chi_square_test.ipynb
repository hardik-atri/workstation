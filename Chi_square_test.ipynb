{
 "cells": [
  {
   "cell_type": "markdown",
   "id": "794bf00b-5c30-447a-b125-779cae8b882e",
   "metadata": {
    "tags": []
   },
   "source": [
    "# Part 1"
   ]
  },
  {
   "cell_type": "code",
   "execution_count": 73,
   "id": "54e626c7-05ac-46dc-9b25-a2fc1e96d164",
   "metadata": {},
   "outputs": [],
   "source": [
    "import numpy as np\n",
    "import pandas as pd\n",
    "import matplotlib.pyplot as plt\n",
    "import seaborn as sns"
   ]
  },
  {
   "cell_type": "code",
   "execution_count": 74,
   "id": "36f2df80-d2ae-4a40-84df-177886e4d091",
   "metadata": {},
   "outputs": [
    {
     "data": {
      "text/html": [
       "<div>\n",
       "<style scoped>\n",
       "    .dataframe tbody tr th:only-of-type {\n",
       "        vertical-align: middle;\n",
       "    }\n",
       "\n",
       "    .dataframe tbody tr th {\n",
       "        vertical-align: top;\n",
       "    }\n",
       "\n",
       "    .dataframe thead th {\n",
       "        text-align: right;\n",
       "    }\n",
       "</style>\n",
       "<table border=\"1\" class=\"dataframe\">\n",
       "  <thead>\n",
       "    <tr style=\"text-align: right;\">\n",
       "      <th></th>\n",
       "      <th>obs</th>\n",
       "    </tr>\n",
       "  </thead>\n",
       "  <tbody>\n",
       "    <tr>\n",
       "      <th>0</th>\n",
       "      <td>4</td>\n",
       "    </tr>\n",
       "    <tr>\n",
       "      <th>1</th>\n",
       "      <td>3</td>\n",
       "    </tr>\n",
       "    <tr>\n",
       "      <th>2</th>\n",
       "      <td>3</td>\n",
       "    </tr>\n",
       "    <tr>\n",
       "      <th>3</th>\n",
       "      <td>8</td>\n",
       "    </tr>\n",
       "    <tr>\n",
       "      <th>4</th>\n",
       "      <td>7</td>\n",
       "    </tr>\n",
       "  </tbody>\n",
       "</table>\n",
       "</div>"
      ],
      "text/plain": [
       "   obs\n",
       "0    4\n",
       "1    3\n",
       "2    3\n",
       "3    8\n",
       "4    7"
      ]
     },
     "execution_count": 74,
     "metadata": {},
     "output_type": "execute_result"
    }
   ],
   "source": [
    "df = pd.read_csv('graded_1.csv')\n",
    "df.head()"
   ]
  },
  {
   "cell_type": "code",
   "execution_count": 100,
   "id": "dde43935-cda6-47a9-a172-2e6db1605c1f",
   "metadata": {},
   "outputs": [
    {
     "data": {
      "image/png": "[encoded data removed]",
      "text/plain": [
       "<Figure size 432x288 with 1 Axes>"
      ]
     },
     "metadata": {
      "needs_background": "light"
     },
     "output_type": "display_data"
    }
   ],
   "source": [
    "plt.hist(df['obs'])\n",
    "plt.show()"
   ]
  },
  {
   "cell_type": "code",
   "execution_count": 75,
   "id": "7bd68d12-3727-41bf-88fb-471d2e50b225",
   "metadata": {},
   "outputs": [
    {
     "data": {
      "image/png": "[encoded data removed]",
      "text/plain": [
       "<Figure size 432x288 with 1 Axes>"
      ]
     },
     "metadata": {
      "needs_background": "light"
     },
     "output_type": "display_data"
    }
   ],
   "source": [
    "sns.histplot(df['obs'])\n",
    "plt.show()"
   ]
  },
  {
   "cell_type": "code",
   "execution_count": 76,
   "id": "d8ac3ae9-79e3-44fa-8f7d-4abf532df6bd",
   "metadata": {},
   "outputs": [
    {
     "data": {
      "text/html": [
       "<div>\n",
       "<style scoped>\n",
       "    .dataframe tbody tr th:only-of-type {\n",
       "        vertical-align: middle;\n",
       "    }\n",
       "\n",
       "    .dataframe tbody tr th {\n",
       "        vertical-align: top;\n",
       "    }\n",
       "\n",
       "    .dataframe thead th {\n",
       "        text-align: right;\n",
       "    }\n",
       "</style>\n",
       "<table border=\"1\" class=\"dataframe\">\n",
       "  <thead>\n",
       "    <tr style=\"text-align: right;\">\n",
       "      <th></th>\n",
       "      <th>obs</th>\n",
       "    </tr>\n",
       "  </thead>\n",
       "  <tbody>\n",
       "    <tr>\n",
       "      <th>count</th>\n",
       "      <td>101.000000</td>\n",
       "    </tr>\n",
       "    <tr>\n",
       "      <th>mean</th>\n",
       "      <td>4.663366</td>\n",
       "    </tr>\n",
       "    <tr>\n",
       "      <th>std</th>\n",
       "      <td>2.396987</td>\n",
       "    </tr>\n",
       "    <tr>\n",
       "      <th>min</th>\n",
       "      <td>0.000000</td>\n",
       "    </tr>\n",
       "    <tr>\n",
       "      <th>25%</th>\n",
       "      <td>3.000000</td>\n",
       "    </tr>\n",
       "    <tr>\n",
       "      <th>50%</th>\n",
       "      <td>4.000000</td>\n",
       "    </tr>\n",
       "    <tr>\n",
       "      <th>75%</th>\n",
       "      <td>7.000000</td>\n",
       "    </tr>\n",
       "    <tr>\n",
       "      <th>max</th>\n",
       "      <td>12.000000</td>\n",
       "    </tr>\n",
       "  </tbody>\n",
       "</table>\n",
       "</div>"
      ],
      "text/plain": [
       "              obs\n",
       "count  101.000000\n",
       "mean     4.663366\n",
       "std      2.396987\n",
       "min      0.000000\n",
       "25%      3.000000\n",
       "50%      4.000000\n",
       "75%      7.000000\n",
       "max     12.000000"
      ]
     },
     "execution_count": 76,
     "metadata": {},
     "output_type": "execute_result"
    }
   ],
   "source": [
    "df.describe()"
   ]
  },
  {
   "cell_type": "code",
   "execution_count": 77,
   "id": "e24ed004-2063-4b1c-9201-169c7ff9d56e",
   "metadata": {},
   "outputs": [
    {
     "name": "stdout",
     "output_type": "stream",
     "text": [
      "{('Variance Observed', 5.75), ('Skew Observed', 0.5), ('Mean Observed', 4.66), ('Kurt Observed', -0.01)}\n"
     ]
    }
   ],
   "source": [
    "stats_labels = ['Mean Observed', 'Variance Observed', 'Skew Observed', 'Kurt Observed']\n",
    "stats_values = [round(df['obs'].mean(), 2), round(df['obs'].var(), 2), round(df['obs'].skew(),2), round(df['obs'].kurt(),2)]\n",
    "print(set(zip(stats_labels, stats_values)))"
   ]
  },
  {
   "cell_type": "code",
   "execution_count": 78,
   "id": "f543fcae-2b21-43d7-bc1c-6cbec770b810",
   "metadata": {},
   "outputs": [],
   "source": [
    "import statsmodels.api as sm\n",
    "import scipy.stats as stats"
   ]
  },
  {
   "cell_type": "code",
   "execution_count": 79,
   "id": "6b08651e-95b5-4674-b03b-0c562ceaecfa",
   "metadata": {},
   "outputs": [
    {
     "data": {
      "image/png": "[encoded data removed]",
      "text/plain": [
       "<Figure size 432x288 with 1 Axes>"
      ]
     },
     "metadata": {
      "needs_background": "light"
     },
     "output_type": "display_data"
    }
   ],
   "source": [
    "import matplotlib.pyplot as pltp\n",
    "stats.probplot(df['obs'], plot=plt)\n",
    "plt.show()"
   ]
  },
  {
   "cell_type": "code",
   "execution_count": 80,
   "id": "2b6c2d6d-cef6-4691-8c8a-7e6224c27cd1",
   "metadata": {},
   "outputs": [
    {
     "data": {
      "image/png": "[encoded data removed]",
      "text/plain": [
       "<Figure size 432x288 with 1 Axes>"
      ]
     },
     "metadata": {
      "needs_background": "light"
     },
     "output_type": "display_data"
    }
   ],
   "source": [
    "stats.probplot(df['obs'], dist='poisson', sparams=(4.90,), plot=plt)\n",
    "plt.show()\n"
   ]
  },
  {
   "cell_type": "markdown",
   "id": "caa14304-1af5-42e4-a8f8-0ed47e50bd03",
   "metadata": {},
   "source": [
    "#### Hypothesis Testing"
   ]
  },
  {
   "cell_type": "code",
   "execution_count": 81,
   "id": "aab92ad2-6808-47a9-8c8c-7f451bb71bd1",
   "metadata": {},
   "outputs": [],
   "source": [
    "grouped_df = pd.DataFrame()"
   ]
  },
  {
   "cell_type": "code",
   "execution_count": 82,
   "id": "0bdef878-08ef-4ef3-9f13-888124d1b701",
   "metadata": {},
   "outputs": [
    {
     "data": {
      "text/html": [
       "<div>\n",
       "<style scoped>\n",
       "    .dataframe tbody tr th:only-of-type {\n",
       "        vertical-align: middle;\n",
       "    }\n",
       "\n",
       "    .dataframe tbody tr th {\n",
       "        vertical-align: top;\n",
       "    }\n",
       "\n",
       "    .dataframe thead th {\n",
       "        text-align: right;\n",
       "    }\n",
       "</style>\n",
       "<table border=\"1\" class=\"dataframe\">\n",
       "  <thead>\n",
       "    <tr style=\"text-align: right;\">\n",
       "      <th></th>\n",
       "      <th>freq</th>\n",
       "    </tr>\n",
       "    <tr>\n",
       "      <th>obs</th>\n",
       "      <th></th>\n",
       "    </tr>\n",
       "  </thead>\n",
       "  <tbody>\n",
       "    <tr>\n",
       "      <th>0</th>\n",
       "      <td>1</td>\n",
       "    </tr>\n",
       "    <tr>\n",
       "      <th>1</th>\n",
       "      <td>6</td>\n",
       "    </tr>\n",
       "    <tr>\n",
       "      <th>2</th>\n",
       "      <td>13</td>\n",
       "    </tr>\n",
       "    <tr>\n",
       "      <th>3</th>\n",
       "      <td>17</td>\n",
       "    </tr>\n",
       "    <tr>\n",
       "      <th>4</th>\n",
       "      <td>15</td>\n",
       "    </tr>\n",
       "  </tbody>\n",
       "</table>\n",
       "</div>"
      ],
      "text/plain": [
       "     freq\n",
       "obs      \n",
       "0       1\n",
       "1       6\n",
       "2      13\n",
       "3      17\n",
       "4      15"
      ]
     },
     "execution_count": 82,
     "metadata": {},
     "output_type": "execute_result"
    }
   ],
   "source": [
    "grouped_df['freq'] = df.groupby('obs')['obs'].count()\n",
    "grouped_df.head()"
   ]
  },
  {
   "cell_type": "code",
   "execution_count": 83,
   "id": "00b5c75c-6861-40a1-bcab-365d48c139cf",
   "metadata": {},
   "outputs": [
    {
     "data": {
      "text/html": [
       "<div>\n",
       "<style scoped>\n",
       "    .dataframe tbody tr th:only-of-type {\n",
       "        vertical-align: middle;\n",
       "    }\n",
       "\n",
       "    .dataframe tbody tr th {\n",
       "        vertical-align: top;\n",
       "    }\n",
       "\n",
       "    .dataframe thead th {\n",
       "        text-align: right;\n",
       "    }\n",
       "</style>\n",
       "<table border=\"1\" class=\"dataframe\">\n",
       "  <thead>\n",
       "    <tr style=\"text-align: right;\">\n",
       "      <th></th>\n",
       "      <th>freq</th>\n",
       "      <th>obs_prob</th>\n",
       "    </tr>\n",
       "    <tr>\n",
       "      <th>obs</th>\n",
       "      <th></th>\n",
       "      <th></th>\n",
       "    </tr>\n",
       "  </thead>\n",
       "  <tbody>\n",
       "    <tr>\n",
       "      <th>0</th>\n",
       "      <td>1</td>\n",
       "      <td>0.009901</td>\n",
       "    </tr>\n",
       "    <tr>\n",
       "      <th>1</th>\n",
       "      <td>6</td>\n",
       "      <td>0.059406</td>\n",
       "    </tr>\n",
       "    <tr>\n",
       "      <th>2</th>\n",
       "      <td>13</td>\n",
       "      <td>0.128713</td>\n",
       "    </tr>\n",
       "    <tr>\n",
       "      <th>3</th>\n",
       "      <td>17</td>\n",
       "      <td>0.168317</td>\n",
       "    </tr>\n",
       "    <tr>\n",
       "      <th>4</th>\n",
       "      <td>15</td>\n",
       "      <td>0.148515</td>\n",
       "    </tr>\n",
       "  </tbody>\n",
       "</table>\n",
       "</div>"
      ],
      "text/plain": [
       "     freq  obs_prob\n",
       "obs                \n",
       "0       1  0.009901\n",
       "1       6  0.059406\n",
       "2      13  0.128713\n",
       "3      17  0.168317\n",
       "4      15  0.148515"
      ]
     },
     "execution_count": 83,
     "metadata": {},
     "output_type": "execute_result"
    }
   ],
   "source": [
    "grouped_df['obs_prob'] = grouped_df['freq'] / len(df) \n",
    "grouped_df.head()"
   ]
  },
  {
   "cell_type": "code",
   "execution_count": 84,
   "id": "329152eb-04ad-46cc-868d-597577ea610d",
   "metadata": {},
   "outputs": [],
   "source": [
    "from scipy import stats\n",
    "from scipy.stats import poisson\n",
    "from scipy.stats import chisquare"
   ]
  },
  {
   "cell_type": "code",
   "execution_count": 85,
   "id": "0872c0b8-18c9-41a0-9f1a-14fb2ede169b",
   "metadata": {},
   "outputs": [
    {
     "data": {
      "text/plain": [
       "Int64Index([0, 1, 2, 3, 4, 5, 6, 7, 8, 9, 10, 11, 12], dtype='int64', name='obs')"
      ]
     },
     "execution_count": 85,
     "metadata": {},
     "output_type": "execute_result"
    }
   ],
   "source": [
    "grouped_df.index"
   ]
  },
  {
   "cell_type": "code",
   "execution_count": 86,
   "id": "c9576c84-79fe-4187-8f7b-95e546386834",
   "metadata": {},
   "outputs": [
    {
     "data": {
      "text/html": [
       "<div>\n",
       "<style scoped>\n",
       "    .dataframe tbody tr th:only-of-type {\n",
       "        vertical-align: middle;\n",
       "    }\n",
       "\n",
       "    .dataframe tbody tr th {\n",
       "        vertical-align: top;\n",
       "    }\n",
       "\n",
       "    .dataframe thead th {\n",
       "        text-align: right;\n",
       "    }\n",
       "</style>\n",
       "<table border=\"1\" class=\"dataframe\">\n",
       "  <thead>\n",
       "    <tr style=\"text-align: right;\">\n",
       "      <th></th>\n",
       "      <th>freq</th>\n",
       "      <th>obs_prob</th>\n",
       "      <th>Poisson_pmf</th>\n",
       "    </tr>\n",
       "    <tr>\n",
       "      <th>obs</th>\n",
       "      <th></th>\n",
       "      <th></th>\n",
       "      <th></th>\n",
       "    </tr>\n",
       "  </thead>\n",
       "  <tbody>\n",
       "    <tr>\n",
       "      <th>0</th>\n",
       "      <td>1</td>\n",
       "      <td>0.009901</td>\n",
       "      <td>0.009435</td>\n",
       "    </tr>\n",
       "    <tr>\n",
       "      <th>1</th>\n",
       "      <td>6</td>\n",
       "      <td>0.059406</td>\n",
       "      <td>0.043997</td>\n",
       "    </tr>\n",
       "    <tr>\n",
       "      <th>2</th>\n",
       "      <td>13</td>\n",
       "      <td>0.128713</td>\n",
       "      <td>0.102588</td>\n",
       "    </tr>\n",
       "    <tr>\n",
       "      <th>3</th>\n",
       "      <td>17</td>\n",
       "      <td>0.168317</td>\n",
       "      <td>0.159468</td>\n",
       "    </tr>\n",
       "    <tr>\n",
       "      <th>4</th>\n",
       "      <td>15</td>\n",
       "      <td>0.148515</td>\n",
       "      <td>0.185914</td>\n",
       "    </tr>\n",
       "  </tbody>\n",
       "</table>\n",
       "</div>"
      ],
      "text/plain": [
       "     freq  obs_prob  Poisson_pmf\n",
       "obs                             \n",
       "0       1  0.009901     0.009435\n",
       "1       6  0.059406     0.043997\n",
       "2      13  0.128713     0.102588\n",
       "3      17  0.168317     0.159468\n",
       "4      15  0.148515     0.185914"
      ]
     },
     "execution_count": 86,
     "metadata": {},
     "output_type": "execute_result"
    }
   ],
   "source": [
    "grouped_df['Poisson_pmf'] = poisson.pmf(k=grouped_df.index, mu=df['obs'].mean())\n",
    "\n",
    "grouped_df.head()"
   ]
  },
  {
   "cell_type": "code",
   "execution_count": 87,
   "id": "6546f592-d0c5-4d26-8771-ee5268056e4e",
   "metadata": {},
   "outputs": [],
   "source": [
    "#grouped_df['Poisson_pmf'] = round(grouped_df['Poisson_pmf'],2)"
   ]
  },
  {
   "cell_type": "code",
   "execution_count": 88,
   "id": "70ab94fe-0106-46a0-93e6-2c2828681bf8",
   "metadata": {},
   "outputs": [
    {
     "data": {
      "text/html": [
       "<div>\n",
       "<style scoped>\n",
       "    .dataframe tbody tr th:only-of-type {\n",
       "        vertical-align: middle;\n",
       "    }\n",
       "\n",
       "    .dataframe tbody tr th {\n",
       "        vertical-align: top;\n",
       "    }\n",
       "\n",
       "    .dataframe thead th {\n",
       "        text-align: right;\n",
       "    }\n",
       "</style>\n",
       "<table border=\"1\" class=\"dataframe\">\n",
       "  <thead>\n",
       "    <tr style=\"text-align: right;\">\n",
       "      <th></th>\n",
       "      <th>freq</th>\n",
       "      <th>obs_prob</th>\n",
       "      <th>Poisson_pmf</th>\n",
       "      <th>Poisson_freq</th>\n",
       "    </tr>\n",
       "    <tr>\n",
       "      <th>obs</th>\n",
       "      <th></th>\n",
       "      <th></th>\n",
       "      <th></th>\n",
       "      <th></th>\n",
       "    </tr>\n",
       "  </thead>\n",
       "  <tbody>\n",
       "    <tr>\n",
       "      <th>0</th>\n",
       "      <td>1</td>\n",
       "      <td>0.009901</td>\n",
       "      <td>0.009435</td>\n",
       "      <td>0.952900</td>\n",
       "    </tr>\n",
       "    <tr>\n",
       "      <th>1</th>\n",
       "      <td>6</td>\n",
       "      <td>0.059406</td>\n",
       "      <td>0.043997</td>\n",
       "      <td>4.443720</td>\n",
       "    </tr>\n",
       "    <tr>\n",
       "      <th>2</th>\n",
       "      <td>13</td>\n",
       "      <td>0.128713</td>\n",
       "      <td>0.102588</td>\n",
       "      <td>10.361346</td>\n",
       "    </tr>\n",
       "    <tr>\n",
       "      <th>3</th>\n",
       "      <td>17</td>\n",
       "      <td>0.168317</td>\n",
       "      <td>0.159468</td>\n",
       "      <td>16.106251</td>\n",
       "    </tr>\n",
       "    <tr>\n",
       "      <th>4</th>\n",
       "      <td>15</td>\n",
       "      <td>0.148515</td>\n",
       "      <td>0.185914</td>\n",
       "      <td>18.777337</td>\n",
       "    </tr>\n",
       "  </tbody>\n",
       "</table>\n",
       "</div>"
      ],
      "text/plain": [
       "     freq  obs_prob  Poisson_pmf  Poisson_freq\n",
       "obs                                           \n",
       "0       1  0.009901     0.009435      0.952900\n",
       "1       6  0.059406     0.043997      4.443720\n",
       "2      13  0.128713     0.102588     10.361346\n",
       "3      17  0.168317     0.159468     16.106251\n",
       "4      15  0.148515     0.185914     18.777337"
      ]
     },
     "execution_count": 88,
     "metadata": {},
     "output_type": "execute_result"
    }
   ],
   "source": [
    "grouped_df['Poisson_freq'] = grouped_df['Poisson_pmf']*len(df)\n",
    "\n",
    "grouped_df.head()"
   ]
  },
  {
   "cell_type": "code",
   "execution_count": 89,
   "id": "b3493edd-b149-4410-bb37-ecd52bf311f8",
   "metadata": {},
   "outputs": [
    {
     "name": "stdout",
     "output_type": "stream",
     "text": [
      "101     100.88843724141073\n"
     ]
    }
   ],
   "source": [
    "obs_freq_sum = grouped_df['freq'].sum()\n",
    "exp_freq_sum = grouped_df['Poisson_freq'].sum()\n",
    "print(obs_freq_sum,\"   \", exp_freq_sum)"
   ]
  },
  {
   "cell_type": "code",
   "execution_count": 90,
   "id": "88e24fe5-9e83-4806-8037-95da5b87ee1c",
   "metadata": {},
   "outputs": [
    {
     "data": {
      "text/plain": [
       "0.11156275858927245"
      ]
     },
     "execution_count": 90,
     "metadata": {},
     "output_type": "execute_result"
    }
   ],
   "source": [
    "diff = obs_freq_sum - exp_freq_sum\n",
    "diff"
   ]
  },
  {
   "cell_type": "code",
   "execution_count": 91,
   "id": "158883a3-b6be-4f58-b6bd-ebb8cb1fdfc7",
   "metadata": {},
   "outputs": [
    {
     "data": {
      "text/plain": [
       "13"
      ]
     },
     "execution_count": 91,
     "metadata": {},
     "output_type": "execute_result"
    }
   ],
   "source": [
    "len(grouped_df)"
   ]
  },
  {
   "cell_type": "code",
   "execution_count": 92,
   "id": "cc143238-92f3-4bff-91dc-ca29bdfb9dfd",
   "metadata": {},
   "outputs": [
    {
     "data": {
      "text/plain": [
       "0.008581750660713264"
      ]
     },
     "execution_count": 92,
     "metadata": {},
     "output_type": "execute_result"
    }
   ],
   "source": [
    "diff/len(grouped_df)"
   ]
  },
  {
   "cell_type": "code",
   "execution_count": 93,
   "id": "27d99cf1-ad0a-4112-9b6d-5a35097b22d5",
   "metadata": {},
   "outputs": [],
   "source": [
    "grouped_df['Poisson_freq'] = grouped_df['Poisson_freq'] +  (diff/len(grouped_df))"
   ]
  },
  {
   "cell_type": "code",
   "execution_count": 94,
   "id": "5afead28-a2d0-4816-a653-4b850009c564",
   "metadata": {},
   "outputs": [
    {
     "data": {
      "text/plain": [
       "100.99999999999999"
      ]
     },
     "execution_count": 94,
     "metadata": {},
     "output_type": "execute_result"
    }
   ],
   "source": [
    "grouped_df['Poisson_freq'].sum()"
   ]
  },
  {
   "cell_type": "code",
   "execution_count": null,
   "id": "df4eab8e-7735-4790-80ff-33e4fa4c1c31",
   "metadata": {},
   "outputs": [],
   "source": []
  },
  {
   "cell_type": "code",
   "execution_count": null,
   "id": "e0b118f1-41b1-4cae-89b1-8beded0119e6",
   "metadata": {},
   "outputs": [],
   "source": []
  },
  {
   "cell_type": "code",
   "execution_count": 95,
   "id": "5812c3d2-24f2-4382-907b-9cc3b0cc8d28",
   "metadata": {},
   "outputs": [],
   "source": [
    "obs_freq = list(grouped_df['freq'])\n",
    "expec_freq = list(grouped_df['Poisson_freq'])"
   ]
  },
  {
   "cell_type": "markdown",
   "id": "fa1d08e4-6f6f-4d25-82ef-963d8cf9321c",
   "metadata": {},
   "source": [
    "#### Null Hypothesis : Data follows Poisson Distribution\n",
    "#### Alternate Hypo. : Data does not follow Poisson dist."
   ]
  },
  {
   "cell_type": "code",
   "execution_count": 96,
   "id": "540c0b45-e0cf-4932-bed9-90560bb985c3",
   "metadata": {},
   "outputs": [
    {
     "data": {
      "text/plain": [
       "Power_divergenceResult(statistic=11.67284799759617, pvalue=0.47229832947129)"
      ]
     },
     "execution_count": 96,
     "metadata": {},
     "output_type": "execute_result"
    }
   ],
   "source": [
    "stats.chisquare(obs_freq, expec_freq)"
   ]
  },
  {
   "cell_type": "markdown",
   "id": "c697c91d-1ea1-40ee-bfa4-f24b0cf7f26f",
   "metadata": {},
   "source": [
    "#### Since pvalue > 0.05 ( significance level) ; Accept Null"
   ]
  },
  {
   "cell_type": "code",
   "execution_count": 97,
   "id": "d2acfb9f-5f19-4d3a-92e5-f998384e139e",
   "metadata": {},
   "outputs": [
    {
     "data": {
      "text/plain": [
       "18.307038053275146"
      ]
     },
     "execution_count": 97,
     "metadata": {},
     "output_type": "execute_result"
    }
   ],
   "source": [
    "import scipy.stats\n",
    "scipy.stats.chi2.ppf(1-0.05, df= 10)"
   ]
  },
  {
   "cell_type": "markdown",
   "id": "8d416a85-a508-4950-a083-00e1698024ea",
   "metadata": {},
   "source": [
    "#### Since tabulated value > calculated value ; Accept the Null"
   ]
  },
  {
   "cell_type": "code",
   "execution_count": 98,
   "id": "7c1e26c9-a33c-4798-aace-5290896c6846",
   "metadata": {},
   "outputs": [
    {
     "data": {
      "text/plain": [
       "13"
      ]
     },
     "execution_count": 98,
     "metadata": {},
     "output_type": "execute_result"
    }
   ],
   "source": [
    "len(grouped_df)"
   ]
  },
  {
   "cell_type": "code",
   "execution_count": 99,
   "id": "7c774037-d646-49ad-a8fb-d9c6d40a374c",
   "metadata": {},
   "outputs": [
    {
     "data": {
      "text/html": [
       "<div>\n",
       "<style scoped>\n",
       "    .dataframe tbody tr th:only-of-type {\n",
       "        vertical-align: middle;\n",
       "    }\n",
       "\n",
       "    .dataframe tbody tr th {\n",
       "        vertical-align: top;\n",
       "    }\n",
       "\n",
       "    .dataframe thead th {\n",
       "        text-align: right;\n",
       "    }\n",
       "</style>\n",
       "<table border=\"1\" class=\"dataframe\">\n",
       "  <thead>\n",
       "    <tr style=\"text-align: right;\">\n",
       "      <th></th>\n",
       "      <th>freq</th>\n",
       "      <th>obs_prob</th>\n",
       "      <th>Poisson_pmf</th>\n",
       "      <th>Poisson_freq</th>\n",
       "    </tr>\n",
       "    <tr>\n",
       "      <th>obs</th>\n",
       "      <th></th>\n",
       "      <th></th>\n",
       "      <th></th>\n",
       "      <th></th>\n",
       "    </tr>\n",
       "  </thead>\n",
       "  <tbody>\n",
       "    <tr>\n",
       "      <th>0</th>\n",
       "      <td>1</td>\n",
       "      <td>0.009901</td>\n",
       "      <td>0.009435</td>\n",
       "      <td>0.961481</td>\n",
       "    </tr>\n",
       "    <tr>\n",
       "      <th>1</th>\n",
       "      <td>6</td>\n",
       "      <td>0.059406</td>\n",
       "      <td>0.043997</td>\n",
       "      <td>4.452301</td>\n",
       "    </tr>\n",
       "    <tr>\n",
       "      <th>2</th>\n",
       "      <td>13</td>\n",
       "      <td>0.128713</td>\n",
       "      <td>0.102588</td>\n",
       "      <td>10.369928</td>\n",
       "    </tr>\n",
       "    <tr>\n",
       "      <th>3</th>\n",
       "      <td>17</td>\n",
       "      <td>0.168317</td>\n",
       "      <td>0.159468</td>\n",
       "      <td>16.114833</td>\n",
       "    </tr>\n",
       "    <tr>\n",
       "      <th>4</th>\n",
       "      <td>15</td>\n",
       "      <td>0.148515</td>\n",
       "      <td>0.185914</td>\n",
       "      <td>18.785919</td>\n",
       "    </tr>\n",
       "    <tr>\n",
       "      <th>5</th>\n",
       "      <td>14</td>\n",
       "      <td>0.138614</td>\n",
       "      <td>0.173397</td>\n",
       "      <td>17.521702</td>\n",
       "    </tr>\n",
       "    <tr>\n",
       "      <th>6</th>\n",
       "      <td>9</td>\n",
       "      <td>0.089109</td>\n",
       "      <td>0.134769</td>\n",
       "      <td>13.620264</td>\n",
       "    </tr>\n",
       "    <tr>\n",
       "      <th>7</th>\n",
       "      <td>15</td>\n",
       "      <td>0.148515</td>\n",
       "      <td>0.089783</td>\n",
       "      <td>9.076619</td>\n",
       "    </tr>\n",
       "    <tr>\n",
       "      <th>8</th>\n",
       "      <td>6</td>\n",
       "      <td>0.059406</td>\n",
       "      <td>0.052336</td>\n",
       "      <td>5.294529</td>\n",
       "    </tr>\n",
       "    <tr>\n",
       "      <th>9</th>\n",
       "      <td>2</td>\n",
       "      <td>0.019802</td>\n",
       "      <td>0.027118</td>\n",
       "      <td>2.747505</td>\n",
       "    </tr>\n",
       "    <tr>\n",
       "      <th>10</th>\n",
       "      <td>1</td>\n",
       "      <td>0.009901</td>\n",
       "      <td>0.012646</td>\n",
       "      <td>1.285842</td>\n",
       "    </tr>\n",
       "    <tr>\n",
       "      <th>11</th>\n",
       "      <td>1</td>\n",
       "      <td>0.009901</td>\n",
       "      <td>0.005361</td>\n",
       "      <td>0.550067</td>\n",
       "    </tr>\n",
       "    <tr>\n",
       "      <th>12</th>\n",
       "      <td>1</td>\n",
       "      <td>0.009901</td>\n",
       "      <td>0.002083</td>\n",
       "      <td>0.219010</td>\n",
       "    </tr>\n",
       "  </tbody>\n",
       "</table>\n",
       "</div>"
      ],
      "text/plain": [
       "     freq  obs_prob  Poisson_pmf  Poisson_freq\n",
       "obs                                           \n",
       "0       1  0.009901     0.009435      0.961481\n",
       "1       6  0.059406     0.043997      4.452301\n",
       "2      13  0.128713     0.102588     10.369928\n",
       "3      17  0.168317     0.159468     16.114833\n",
       "4      15  0.148515     0.185914     18.785919\n",
       "5      14  0.138614     0.173397     17.521702\n",
       "6       9  0.089109     0.134769     13.620264\n",
       "7      15  0.148515     0.089783      9.076619\n",
       "8       6  0.059406     0.052336      5.294529\n",
       "9       2  0.019802     0.027118      2.747505\n",
       "10      1  0.009901     0.012646      1.285842\n",
       "11      1  0.009901     0.005361      0.550067\n",
       "12      1  0.009901     0.002083      0.219010"
      ]
     },
     "execution_count": 99,
     "metadata": {},
     "output_type": "execute_result"
    }
   ],
   "source": [
    "grouped_df"
   ]
  },
  {
   "cell_type": "markdown",
   "id": "4ad3dd25-3261-42db-9916-e23f57991214",
   "metadata": {
    "jp-MarkdownHeadingCollapsed": true,
    "tags": []
   },
   "source": [
    "# Part-2"
   ]
  },
  {
   "cell_type": "code",
   "execution_count": 1,
   "id": "f9af2055-a7c1-4b49-8bbd-3103204b85e6",
   "metadata": {},
   "outputs": [],
   "source": [
    "import numpy as np\n",
    "import pandas as pd\n",
    "import matplotlib.pyplot as plt\n",
    "import seaborn as sns"
   ]
  },
  {
   "cell_type": "code",
   "execution_count": 2,
   "id": "a819ac4f-5508-4123-a0d8-b77f4ab056b9",
   "metadata": {},
   "outputs": [
    {
     "data": {
      "text/html": [
       "<div>\n",
       "<style scoped>\n",
       "    .dataframe tbody tr th:only-of-type {\n",
       "        vertical-align: middle;\n",
       "    }\n",
       "\n",
       "    .dataframe tbody tr th {\n",
       "        vertical-align: top;\n",
       "    }\n",
       "\n",
       "    .dataframe thead th {\n",
       "        text-align: right;\n",
       "    }\n",
       "</style>\n",
       "<table border=\"1\" class=\"dataframe\">\n",
       "  <thead>\n",
       "    <tr style=\"text-align: right;\">\n",
       "      <th></th>\n",
       "      <th>Age Group</th>\n",
       "      <th>Brand Preference</th>\n",
       "    </tr>\n",
       "  </thead>\n",
       "  <tbody>\n",
       "    <tr>\n",
       "      <th>0</th>\n",
       "      <td>40 - 50</td>\n",
       "      <td>B</td>\n",
       "    </tr>\n",
       "    <tr>\n",
       "      <th>1</th>\n",
       "      <td>20 - 30</td>\n",
       "      <td>C</td>\n",
       "    </tr>\n",
       "    <tr>\n",
       "      <th>2</th>\n",
       "      <td>40 - 50</td>\n",
       "      <td>C</td>\n",
       "    </tr>\n",
       "    <tr>\n",
       "      <th>3</th>\n",
       "      <td>20 - 30</td>\n",
       "      <td>B</td>\n",
       "    </tr>\n",
       "    <tr>\n",
       "      <th>4</th>\n",
       "      <td>40 - 50</td>\n",
       "      <td>B</td>\n",
       "    </tr>\n",
       "  </tbody>\n",
       "</table>\n",
       "</div>"
      ],
      "text/plain": [
       "  Age Group  Brand Preference\n",
       "0    40 - 50                B\n",
       "1    20 - 30                C\n",
       "2    40 - 50                C\n",
       "3    20 - 30                B\n",
       "4    40 - 50                B"
      ]
     },
     "execution_count": 2,
     "metadata": {},
     "output_type": "execute_result"
    }
   ],
   "source": [
    "df = pd.read_csv('graded1.csv')\n",
    "df.head()"
   ]
  },
  {
   "cell_type": "code",
   "execution_count": 3,
   "id": "e5d462cb-3944-42a5-b010-2e1f363caf25",
   "metadata": {
    "tags": []
   },
   "outputs": [
    {
     "data": {
      "text/html": [
       "<div>\n",
       "<style scoped>\n",
       "    .dataframe tbody tr th:only-of-type {\n",
       "        vertical-align: middle;\n",
       "    }\n",
       "\n",
       "    .dataframe tbody tr th {\n",
       "        vertical-align: top;\n",
       "    }\n",
       "\n",
       "    .dataframe thead th {\n",
       "        text-align: right;\n",
       "    }\n",
       "</style>\n",
       "<table border=\"1\" class=\"dataframe\">\n",
       "  <thead>\n",
       "    <tr style=\"text-align: right;\">\n",
       "      <th>Brand Preference</th>\n",
       "      <th>A</th>\n",
       "      <th>B</th>\n",
       "      <th>C</th>\n",
       "      <th>D</th>\n",
       "      <th>All</th>\n",
       "    </tr>\n",
       "    <tr>\n",
       "      <th>Age Group</th>\n",
       "      <th></th>\n",
       "      <th></th>\n",
       "      <th></th>\n",
       "      <th></th>\n",
       "      <th></th>\n",
       "    </tr>\n",
       "  </thead>\n",
       "  <tbody>\n",
       "    <tr>\n",
       "      <th>20 - 30</th>\n",
       "      <td>70</td>\n",
       "      <td>126</td>\n",
       "      <td>98</td>\n",
       "      <td>83</td>\n",
       "      <td>377</td>\n",
       "    </tr>\n",
       "    <tr>\n",
       "      <th>40 - 50</th>\n",
       "      <td>157</td>\n",
       "      <td>160</td>\n",
       "      <td>283</td>\n",
       "      <td>98</td>\n",
       "      <td>698</td>\n",
       "    </tr>\n",
       "    <tr>\n",
       "      <th>All</th>\n",
       "      <td>227</td>\n",
       "      <td>286</td>\n",
       "      <td>381</td>\n",
       "      <td>181</td>\n",
       "      <td>1075</td>\n",
       "    </tr>\n",
       "  </tbody>\n",
       "</table>\n",
       "</div>"
      ],
      "text/plain": [
       "Brand Preference    A    B    C    D   All\n",
       "Age Group                                 \n",
       "20 - 30            70  126   98   83   377\n",
       "40 - 50           157  160  283   98   698\n",
       "All               227  286  381  181  1075"
      ]
     },
     "execution_count": 3,
     "metadata": {},
     "output_type": "execute_result"
    }
   ],
   "source": [
    "ct = pd.crosstab(df['Age Group '], df['Brand Preference'], margins = True )  # contingency table\n",
    "ct"
   ]
  },
  {
   "cell_type": "markdown",
   "id": "29e17ba7-f10f-4c87-a357-1258a201c108",
   "metadata": {},
   "source": [
    "#### Expected frequency"
   ]
  },
  {
   "cell_type": "code",
   "execution_count": 4,
   "id": "8ba0b98e-f672-4d80-9521-725f205335b5",
   "metadata": {},
   "outputs": [],
   "source": [
    "ct1 = ct.transpose()"
   ]
  },
  {
   "cell_type": "code",
   "execution_count": 5,
   "id": "be8a21c6-79cd-42f1-8da2-ddf10280e607",
   "metadata": {},
   "outputs": [
    {
     "data": {
      "text/html": [
       "<div>\n",
       "<style scoped>\n",
       "    .dataframe tbody tr th:only-of-type {\n",
       "        vertical-align: middle;\n",
       "    }\n",
       "\n",
       "    .dataframe tbody tr th {\n",
       "        vertical-align: top;\n",
       "    }\n",
       "\n",
       "    .dataframe thead th {\n",
       "        text-align: right;\n",
       "    }\n",
       "</style>\n",
       "<table border=\"1\" class=\"dataframe\">\n",
       "  <thead>\n",
       "    <tr style=\"text-align: right;\">\n",
       "      <th>Age Group</th>\n",
       "      <th>20 - 30</th>\n",
       "      <th>40 - 50</th>\n",
       "      <th>All</th>\n",
       "    </tr>\n",
       "    <tr>\n",
       "      <th>Brand Preference</th>\n",
       "      <th></th>\n",
       "      <th></th>\n",
       "      <th></th>\n",
       "    </tr>\n",
       "  </thead>\n",
       "  <tbody>\n",
       "    <tr>\n",
       "      <th>A</th>\n",
       "      <td>70</td>\n",
       "      <td>157</td>\n",
       "      <td>227</td>\n",
       "    </tr>\n",
       "    <tr>\n",
       "      <th>B</th>\n",
       "      <td>126</td>\n",
       "      <td>160</td>\n",
       "      <td>286</td>\n",
       "    </tr>\n",
       "    <tr>\n",
       "      <th>C</th>\n",
       "      <td>98</td>\n",
       "      <td>283</td>\n",
       "      <td>381</td>\n",
       "    </tr>\n",
       "    <tr>\n",
       "      <th>D</th>\n",
       "      <td>83</td>\n",
       "      <td>98</td>\n",
       "      <td>181</td>\n",
       "    </tr>\n",
       "    <tr>\n",
       "      <th>All</th>\n",
       "      <td>377</td>\n",
       "      <td>698</td>\n",
       "      <td>1075</td>\n",
       "    </tr>\n",
       "  </tbody>\n",
       "</table>\n",
       "</div>"
      ],
      "text/plain": [
       "Age Group         20 - 30  40 - 50   All\n",
       "Brand Preference                        \n",
       "A                      70      157   227\n",
       "B                     126      160   286\n",
       "C                      98      283   381\n",
       "D                      83       98   181\n",
       "All                   377      698  1075"
      ]
     },
     "execution_count": 5,
     "metadata": {},
     "output_type": "execute_result"
    }
   ],
   "source": [
    "ct1"
   ]
  },
  {
   "cell_type": "code",
   "execution_count": 6,
   "id": "edbe3a4a-6a56-47ae-9def-a7ce0c172b4d",
   "metadata": {},
   "outputs": [
    {
     "data": {
      "text/plain": [
       "227"
      ]
     },
     "execution_count": 6,
     "metadata": {},
     "output_type": "execute_result"
    }
   ],
   "source": [
    "ct[\"A\"][\"All\"]"
   ]
  },
  {
   "cell_type": "code",
   "execution_count": 7,
   "id": "dda99cbc-c5e8-4c73-95fe-dc17ca218be3",
   "metadata": {},
   "outputs": [],
   "source": [
    "age = list(df['Age Group '].unique())\n",
    "brand = list(df['Brand Preference'].unique())"
   ]
  },
  {
   "cell_type": "code",
   "execution_count": 8,
   "id": "f424112c-3bbc-4d8c-bf44-80e01a41fabe",
   "metadata": {},
   "outputs": [],
   "source": [
    "exp1 = {}\n",
    "\n",
    "for a in age:\n",
    "    exp2 = {}\n",
    "    \n",
    "    for b in brand:\n",
    "        exp2[b] = ( ct1[a][\"All\"] * ct[b][\"All\"] ) / ct1[\"All\"][\"All\"]\n",
    "        \n",
    "    exp1[a] = exp2"
   ]
  },
  {
   "cell_type": "code",
   "execution_count": 9,
   "id": "7d00cbb7-e6ef-44b5-8676-edca11bec691",
   "metadata": {},
   "outputs": [
    {
     "data": {
      "text/plain": [
       "{'40 - 50': {'B': 185.70046511627908,\n",
       "  'C': 247.38418604651162,\n",
       "  'A': 147.39162790697674,\n",
       "  'D': 117.52372093023256},\n",
       " '20 - 30': {'B': 100.29953488372092,\n",
       "  'C': 133.61581395348838,\n",
       "  'A': 79.60837209302325,\n",
       "  'D': 63.47627906976744}}"
      ]
     },
     "execution_count": 9,
     "metadata": {},
     "output_type": "execute_result"
    }
   ],
   "source": [
    "exp1"
   ]
  },
  {
   "cell_type": "code",
   "execution_count": 10,
   "id": "62abf6ce-04b6-4b50-9b66-d2a3956c39de",
   "metadata": {},
   "outputs": [
    {
     "data": {
      "text/plain": [
       "185.70046511627908"
      ]
     },
     "execution_count": 10,
     "metadata": {},
     "output_type": "execute_result"
    }
   ],
   "source": [
    "exp1['40 - 50']['B']"
   ]
  },
  {
   "cell_type": "markdown",
   "id": "08ea8289-8781-44bc-bd8a-63101320472f",
   "metadata": {},
   "source": [
    "#### Calculated Chi-square value"
   ]
  },
  {
   "cell_type": "code",
   "execution_count": 11,
   "id": "fc7d9027-0ed8-4471-81f2-9e018d338139",
   "metadata": {},
   "outputs": [],
   "source": [
    "chi_sq_cal = 0\n",
    "\n",
    "for a in age:\n",
    "    for b in brand:\n",
    "        \n",
    "        obs, exp = ct1[a][b], exp1[a][b]\n",
    "        \n",
    "        val = ((obs - exp) ** 2 ) / exp\n",
    "        \n",
    "        chi_sq_cal = chi_sq_cal + val"
   ]
  },
  {
   "cell_type": "code",
   "execution_count": 12,
   "id": "9d917c9f-41eb-4de8-8cd6-28451a125268",
   "metadata": {},
   "outputs": [
    {
     "data": {
      "text/plain": [
       "35.79787580812233"
      ]
     },
     "execution_count": 12,
     "metadata": {},
     "output_type": "execute_result"
    }
   ],
   "source": [
    "chi_sq_cal"
   ]
  },
  {
   "cell_type": "markdown",
   "id": "6bba1b73-3285-4c16-b903-b300671d629c",
   "metadata": {
    "tags": []
   },
   "source": [
    "#### Shortcut to calculate contingency table"
   ]
  },
  {
   "cell_type": "code",
   "execution_count": 13,
   "id": "46b7a80d-e680-4c3c-bf5d-30d311adeaa0",
   "metadata": {},
   "outputs": [],
   "source": [
    "contab = np.array([ct['A'][0:2].values,\n",
    "                   ct['B'][0:2].values,\n",
    "                   ct['C'][0:2].values,\n",
    "                   ct['D'][0:2].values\n",
    "                  ])"
   ]
  },
  {
   "cell_type": "code",
   "execution_count": 14,
   "id": "8d04e06f-5815-4950-bcf7-7ad45f388c61",
   "metadata": {},
   "outputs": [
    {
     "data": {
      "text/plain": [
       "(35.79787580812233,\n",
       " 8.262639420013194e-08,\n",
       " 3,\n",
       " array([[ 79.60837209, 147.39162791],\n",
       "        [100.29953488, 185.70046512],\n",
       "        [133.61581395, 247.38418605],\n",
       "        [ 63.47627907, 117.52372093]]))"
      ]
     },
     "execution_count": 14,
     "metadata": {},
     "output_type": "execute_result"
    }
   ],
   "source": [
    "from scipy import stats\n",
    "stats.chi2_contingency(contab)"
   ]
  },
  {
   "cell_type": "markdown",
   "id": "7d5e87bb-b29c-465c-bdce-e4f52556006e",
   "metadata": {
    "tags": []
   },
   "source": [
    "#### Degree of Freedom"
   ]
  },
  {
   "cell_type": "code",
   "execution_count": 15,
   "id": "ce7050ca-0236-4362-8b1a-d26bc19e8848",
   "metadata": {},
   "outputs": [
    {
     "data": {
      "text/plain": [
       "3"
      ]
     },
     "execution_count": 15,
     "metadata": {},
     "output_type": "execute_result"
    }
   ],
   "source": [
    "dof =  (len(age)-1) * (len(brand)-1)\n",
    "dof"
   ]
  },
  {
   "cell_type": "markdown",
   "id": "fb266bfd-ded7-43d3-92f6-553eda90dce5",
   "metadata": {},
   "source": [
    "#### Tabulated Value"
   ]
  },
  {
   "cell_type": "code",
   "execution_count": 25,
   "id": "3aa8c3f4-d024-4cf7-a32a-1d5c8a1f339c",
   "metadata": {},
   "outputs": [
    {
     "data": {
      "text/plain": [
       "11.344866730144373"
      ]
     },
     "execution_count": 25,
     "metadata": {},
     "output_type": "execute_result"
    }
   ],
   "source": [
    "stats.chi2.ppf(1-0.01, df=dof)  # significance level = 0.01"
   ]
  },
  {
   "cell_type": "markdown",
   "id": "c6c3e9e5-2d33-4d8a-a196-ea0f20a43684",
   "metadata": {},
   "source": [
    "#### P-value"
   ]
  },
  {
   "cell_type": "code",
   "execution_count": 23,
   "id": "092a867d-e383-4ee8-9239-5b712d5684da",
   "metadata": {},
   "outputs": [
    {
     "data": {
      "text/plain": [
       "8.262639417111473e-08"
      ]
     },
     "execution_count": 23,
     "metadata": {},
     "output_type": "execute_result"
    }
   ],
   "source": [
    "1 - stats.chi2.cdf(chi_sq_cal, dof)"
   ]
  },
  {
   "cell_type": "code",
   "execution_count": null,
   "id": "9862cc99-5dce-4019-8bf6-6ea484fffdc6",
   "metadata": {},
   "outputs": [],
   "source": []
  },
  {
   "cell_type": "markdown",
   "id": "21ad509e-71f0-4f48-b6ad-8f8045912d54",
   "metadata": {},
   "source": [
    "#### Since Tabulated Value < Calculated Value ; We reject the Null\n",
    "\n",
    "#### Since P-value < 0.01 ( significance level ); We reject the Null\n",
    "\n",
    "#### Therefore variables are not independent"
   ]
  },
  {
   "cell_type": "code",
   "execution_count": null,
   "id": "bbebd8ed-8d06-4abf-9f05-43527b87fdf1",
   "metadata": {},
   "outputs": [],
   "source": []
  }
 ],
 "metadata": {
  "kernelspec": {
   "display_name": "Python 3",
   "language": "python",
   "name": "python3"
  },
  "language_info": {
   "codemirror_mode": {
    "name": "ipython",
    "version": 3
   },
   "file_extension": ".py",
   "mimetype": "text/x-python",
   "name": "python",
   "nbconvert_exporter": "python",
   "pygments_lexer": "ipython3",
   "version": "3.9.7"
  }
 },
 "nbformat": 4,
 "nbformat_minor": 5
}
