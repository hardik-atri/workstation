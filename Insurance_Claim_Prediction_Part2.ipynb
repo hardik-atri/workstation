{
  "nbformat": 4,
  "nbformat_minor": 0,
  "metadata": {
    "colab": {
      "provenance": []
    },
    "kernelspec": {
      "name": "python3",
      "display_name": "Python 3"
    },
    "language_info": {
      "name": "python"
    }
  },
  "cells": [
    {
      "cell_type": "code",
      "source": [
        "import numpy as np\n",
        "import pandas as pd\n",
        "import matplotlib.pyplot as plt\n",
        "import seaborn as sns"
      ],
      "metadata": {
        "id": "0UPe_NLXVwE7"
      },
      "execution_count": null,
      "outputs": []
    },
    {
      "cell_type": "markdown",
      "source": [
        "## 5. Model Selection"
      ],
      "metadata": {
        "id": "AE60vVYJU7cM"
      }
    },
    {
      "cell_type": "code",
      "execution_count": null,
      "metadata": {
        "colab": {
          "base_uri": "https://localhost:8080/",
          "height": 317
        },
        "id": "KWgwMHcSUOl_",
        "outputId": "ceef9723-6ff0-44ee-d86d-217252892a84"
      },
      "outputs": [
        {
          "output_type": "execute_result",
          "data": {
            "text/plain": [
              "   Unnamed: 0  KIDSDRIV       AGE  HOMEKIDS       YOJ    INCOME  HOME_VAL  \\\n",
              "0           0 -0.388611 -0.623442  0.188397 -2.525708 -1.270714 -1.133206   \n",
              "1           1 -0.388611  0.199783 -0.733635 -1.054674  0.048452 -1.133206   \n",
              "2           2 -0.388611 -1.446667  1.110429 -2.525708 -1.270714 -1.133206   \n",
              "3           3 -0.388611 -0.153028  2.032461 -2.525708 -1.270714 -1.133206   \n",
              "4           4 -0.388611 -1.799478  2.032461  1.397051  0.165450  0.602948   \n",
              "\n",
              "   TRAVTIME  BLUEBOOK       TIF  ...  CAR_TYPE_Sports Car  CAR_TYPE_Van  \\\n",
              "0 -0.199425 -1.190996  1.536520  ...                  0.0           0.0   \n",
              "1 -0.669646  0.530708  1.277411  ...                  0.0           0.0   \n",
              "2 -0.333774 -0.381143 -1.054565  ...                  0.0           0.0   \n",
              "3  1.882980 -0.329529  1.277411  ...                  0.0           0.0   \n",
              "4  1.144062 -1.670271 -1.054565  ...                  1.0           0.0   \n",
              "\n",
              "   OCCUPATION_Clerical  OCCUPATION_Doctor  OCCUPATION_Home Maker  \\\n",
              "0                  0.0                0.0                    0.0   \n",
              "1                  0.0                0.0                    0.0   \n",
              "2                  0.0                0.0                    0.0   \n",
              "3                  0.0                0.0                    0.0   \n",
              "4                  1.0                0.0                    0.0   \n",
              "\n",
              "   OCCUPATION_Lawyer  OCCUPATION_Manager  OCCUPATION_Professional  \\\n",
              "0                0.0                 0.0                      0.0   \n",
              "1                0.0                 0.0                      0.0   \n",
              "2                0.0                 0.0                      0.0   \n",
              "3                0.0                 0.0                      0.0   \n",
              "4                0.0                 0.0                      0.0   \n",
              "\n",
              "   OCCUPATION_Student  TGT_CLAIM_FLAG  \n",
              "0                 1.0               0  \n",
              "1                 0.0               1  \n",
              "2                 1.0               1  \n",
              "3                 1.0               0  \n",
              "4                 0.0               0  \n",
              "\n",
              "[5 rows x 35 columns]"
            ],
            "text/html": [
              "\n",
              "  <div id=\"df-d624f7f9-f487-4540-9b03-6490e99d047e\">\n",
              "    <div class=\"colab-df-container\">\n",
              "      <div>\n",
              "<style scoped>\n",
              "    .dataframe tbody tr th:only-of-type {\n",
              "        vertical-align: middle;\n",
              "    }\n",
              "\n",
              "    .dataframe tbody tr th {\n",
              "        vertical-align: top;\n",
              "    }\n",
              "\n",
              "    .dataframe thead th {\n",
              "        text-align: right;\n",
              "    }\n",
              "</style>\n",
              "<table border=\"1\" class=\"dataframe\">\n",
              "  <thead>\n",
              "    <tr style=\"text-align: right;\">\n",
              "      <th></th>\n",
              "      <th>Unnamed: 0</th>\n",
              "      <th>KIDSDRIV</th>\n",
              "      <th>AGE</th>\n",
              "      <th>HOMEKIDS</th>\n",
              "      <th>YOJ</th>\n",
              "      <th>INCOME</th>\n",
              "      <th>HOME_VAL</th>\n",
              "      <th>TRAVTIME</th>\n",
              "      <th>BLUEBOOK</th>\n",
              "      <th>TIF</th>\n",
              "      <th>...</th>\n",
              "      <th>CAR_TYPE_Sports Car</th>\n",
              "      <th>CAR_TYPE_Van</th>\n",
              "      <th>OCCUPATION_Clerical</th>\n",
              "      <th>OCCUPATION_Doctor</th>\n",
              "      <th>OCCUPATION_Home Maker</th>\n",
              "      <th>OCCUPATION_Lawyer</th>\n",
              "      <th>OCCUPATION_Manager</th>\n",
              "      <th>OCCUPATION_Professional</th>\n",
              "      <th>OCCUPATION_Student</th>\n",
              "      <th>TGT_CLAIM_FLAG</th>\n",
              "    </tr>\n",
              "  </thead>\n",
              "  <tbody>\n",
              "    <tr>\n",
              "      <th>0</th>\n",
              "      <td>0</td>\n",
              "      <td>-0.388611</td>\n",
              "      <td>-0.623442</td>\n",
              "      <td>0.188397</td>\n",
              "      <td>-2.525708</td>\n",
              "      <td>-1.270714</td>\n",
              "      <td>-1.133206</td>\n",
              "      <td>-0.199425</td>\n",
              "      <td>-1.190996</td>\n",
              "      <td>1.536520</td>\n",
              "      <td>...</td>\n",
              "      <td>0.0</td>\n",
              "      <td>0.0</td>\n",
              "      <td>0.0</td>\n",
              "      <td>0.0</td>\n",
              "      <td>0.0</td>\n",
              "      <td>0.0</td>\n",
              "      <td>0.0</td>\n",
              "      <td>0.0</td>\n",
              "      <td>1.0</td>\n",
              "      <td>0</td>\n",
              "    </tr>\n",
              "    <tr>\n",
              "      <th>1</th>\n",
              "      <td>1</td>\n",
              "      <td>-0.388611</td>\n",
              "      <td>0.199783</td>\n",
              "      <td>-0.733635</td>\n",
              "      <td>-1.054674</td>\n",
              "      <td>0.048452</td>\n",
              "      <td>-1.133206</td>\n",
              "      <td>-0.669646</td>\n",
              "      <td>0.530708</td>\n",
              "      <td>1.277411</td>\n",
              "      <td>...</td>\n",
              "      <td>0.0</td>\n",
              "      <td>0.0</td>\n",
              "      <td>0.0</td>\n",
              "      <td>0.0</td>\n",
              "      <td>0.0</td>\n",
              "      <td>0.0</td>\n",
              "      <td>0.0</td>\n",
              "      <td>0.0</td>\n",
              "      <td>0.0</td>\n",
              "      <td>1</td>\n",
              "    </tr>\n",
              "    <tr>\n",
              "      <th>2</th>\n",
              "      <td>2</td>\n",
              "      <td>-0.388611</td>\n",
              "      <td>-1.446667</td>\n",
              "      <td>1.110429</td>\n",
              "      <td>-2.525708</td>\n",
              "      <td>-1.270714</td>\n",
              "      <td>-1.133206</td>\n",
              "      <td>-0.333774</td>\n",
              "      <td>-0.381143</td>\n",
              "      <td>-1.054565</td>\n",
              "      <td>...</td>\n",
              "      <td>0.0</td>\n",
              "      <td>0.0</td>\n",
              "      <td>0.0</td>\n",
              "      <td>0.0</td>\n",
              "      <td>0.0</td>\n",
              "      <td>0.0</td>\n",
              "      <td>0.0</td>\n",
              "      <td>0.0</td>\n",
              "      <td>1.0</td>\n",
              "      <td>1</td>\n",
              "    </tr>\n",
              "    <tr>\n",
              "      <th>3</th>\n",
              "      <td>3</td>\n",
              "      <td>-0.388611</td>\n",
              "      <td>-0.153028</td>\n",
              "      <td>2.032461</td>\n",
              "      <td>-2.525708</td>\n",
              "      <td>-1.270714</td>\n",
              "      <td>-1.133206</td>\n",
              "      <td>1.882980</td>\n",
              "      <td>-0.329529</td>\n",
              "      <td>1.277411</td>\n",
              "      <td>...</td>\n",
              "      <td>0.0</td>\n",
              "      <td>0.0</td>\n",
              "      <td>0.0</td>\n",
              "      <td>0.0</td>\n",
              "      <td>0.0</td>\n",
              "      <td>0.0</td>\n",
              "      <td>0.0</td>\n",
              "      <td>0.0</td>\n",
              "      <td>1.0</td>\n",
              "      <td>0</td>\n",
              "    </tr>\n",
              "    <tr>\n",
              "      <th>4</th>\n",
              "      <td>4</td>\n",
              "      <td>-0.388611</td>\n",
              "      <td>-1.799478</td>\n",
              "      <td>2.032461</td>\n",
              "      <td>1.397051</td>\n",
              "      <td>0.165450</td>\n",
              "      <td>0.602948</td>\n",
              "      <td>1.144062</td>\n",
              "      <td>-1.670271</td>\n",
              "      <td>-1.054565</td>\n",
              "      <td>...</td>\n",
              "      <td>1.0</td>\n",
              "      <td>0.0</td>\n",
              "      <td>1.0</td>\n",
              "      <td>0.0</td>\n",
              "      <td>0.0</td>\n",
              "      <td>0.0</td>\n",
              "      <td>0.0</td>\n",
              "      <td>0.0</td>\n",
              "      <td>0.0</td>\n",
              "      <td>0</td>\n",
              "    </tr>\n",
              "  </tbody>\n",
              "</table>\n",
              "<p>5 rows × 35 columns</p>\n",
              "</div>\n",
              "      <button class=\"colab-df-convert\" onclick=\"convertToInteractive('df-d624f7f9-f487-4540-9b03-6490e99d047e')\"\n",
              "              title=\"Convert this dataframe to an interactive table.\"\n",
              "              style=\"display:none;\">\n",
              "        \n",
              "  <svg xmlns=\"http://www.w3.org/2000/svg\" height=\"24px\"viewBox=\"0 0 24 24\"\n",
              "       width=\"24px\">\n",
              "    <path d=\"M0 0h24v24H0V0z\" fill=\"none\"/>\n",
              "    <path d=\"M18.56 5.44l.94 2.06.94-2.06 2.06-.94-2.06-.94-.94-2.06-.94 2.06-2.06.94zm-11 1L8.5 8.5l.94-2.06 2.06-.94-2.06-.94L8.5 2.5l-.94 2.06-2.06.94zm10 10l.94 2.06.94-2.06 2.06-.94-2.06-.94-.94-2.06-.94 2.06-2.06.94z\"/><path d=\"M17.41 7.96l-1.37-1.37c-.4-.4-.92-.59-1.43-.59-.52 0-1.04.2-1.43.59L10.3 9.45l-7.72 7.72c-.78.78-.78 2.05 0 2.83L4 21.41c.39.39.9.59 1.41.59.51 0 1.02-.2 1.41-.59l7.78-7.78 2.81-2.81c.8-.78.8-2.07 0-2.86zM5.41 20L4 18.59l7.72-7.72 1.47 1.35L5.41 20z\"/>\n",
              "  </svg>\n",
              "      </button>\n",
              "      \n",
              "  <style>\n",
              "    .colab-df-container {\n",
              "      display:flex;\n",
              "      flex-wrap:wrap;\n",
              "      gap: 12px;\n",
              "    }\n",
              "\n",
              "    .colab-df-convert {\n",
              "      background-color: #E8F0FE;\n",
              "      border: none;\n",
              "      border-radius: 50%;\n",
              "      cursor: pointer;\n",
              "      display: none;\n",
              "      fill: #1967D2;\n",
              "      height: 32px;\n",
              "      padding: 0 0 0 0;\n",
              "      width: 32px;\n",
              "    }\n",
              "\n",
              "    .colab-df-convert:hover {\n",
              "      background-color: #E2EBFA;\n",
              "      box-shadow: 0px 1px 2px rgba(60, 64, 67, 0.3), 0px 1px 3px 1px rgba(60, 64, 67, 0.15);\n",
              "      fill: #174EA6;\n",
              "    }\n",
              "\n",
              "    [theme=dark] .colab-df-convert {\n",
              "      background-color: #3B4455;\n",
              "      fill: #D2E3FC;\n",
              "    }\n",
              "\n",
              "    [theme=dark] .colab-df-convert:hover {\n",
              "      background-color: #434B5C;\n",
              "      box-shadow: 0px 1px 3px 1px rgba(0, 0, 0, 0.15);\n",
              "      filter: drop-shadow(0px 1px 2px rgba(0, 0, 0, 0.3));\n",
              "      fill: #FFFFFF;\n",
              "    }\n",
              "  </style>\n",
              "\n",
              "      <script>\n",
              "        const buttonEl =\n",
              "          document.querySelector('#df-d624f7f9-f487-4540-9b03-6490e99d047e button.colab-df-convert');\n",
              "        buttonEl.style.display =\n",
              "          google.colab.kernel.accessAllowed ? 'block' : 'none';\n",
              "\n",
              "        async function convertToInteractive(key) {\n",
              "          const element = document.querySelector('#df-d624f7f9-f487-4540-9b03-6490e99d047e');\n",
              "          const dataTable =\n",
              "            await google.colab.kernel.invokeFunction('convertToInteractive',\n",
              "                                                     [key], {});\n",
              "          if (!dataTable) return;\n",
              "\n",
              "          const docLinkHtml = 'Like what you see? Visit the ' +\n",
              "            '<a target=\"_blank\" href=https://colab.research.google.com/notebooks/data_table.ipynb>data table notebook</a>'\n",
              "            + ' to learn more about interactive tables.';\n",
              "          element.innerHTML = '';\n",
              "          dataTable['output_type'] = 'display_data';\n",
              "          await google.colab.output.renderOutput(dataTable, element);\n",
              "          const docLink = document.createElement('div');\n",
              "          docLink.innerHTML = docLinkHtml;\n",
              "          element.appendChild(docLink);\n",
              "        }\n",
              "      </script>\n",
              "    </div>\n",
              "  </div>\n",
              "  "
            ]
          },
          "metadata": {},
          "execution_count": 19
        }
      ],
      "source": [
        "train_data = pd.read_csv('train_data_processed.csv')\n",
        "train_data.head()"
      ]
    },
    {
      "cell_type": "code",
      "source": [
        "train_data.shape"
      ],
      "metadata": {
        "colab": {
          "base_uri": "https://localhost:8080/"
        },
        "id": "pcYoZ3UhVush",
        "outputId": "4021a494-b228-4e2d-f580-11c691a5fbb4"
      },
      "execution_count": null,
      "outputs": [
        {
          "output_type": "execute_result",
          "data": {
            "text/plain": [
              "(11290, 35)"
            ]
          },
          "metadata": {},
          "execution_count": 20
        }
      ]
    },
    {
      "cell_type": "code",
      "source": [
        "train_data.drop(columns = 'Unnamed: 0' , inplace = True)"
      ],
      "metadata": {
        "id": "ZGf1PbdBWEp9"
      },
      "execution_count": null,
      "outputs": []
    },
    {
      "cell_type": "code",
      "source": [
        "train_x = train_data.iloc[: , :-1]\n",
        "train_y = train_data.iloc[: , -1]"
      ],
      "metadata": {
        "id": "fxQuJ8uua6Zz"
      },
      "execution_count": null,
      "outputs": []
    },
    {
      "cell_type": "code",
      "source": [
        "train_x.shape, train_y.shape"
      ],
      "metadata": {
        "colab": {
          "base_uri": "https://localhost:8080/"
        },
        "id": "jlYa1hqCbLk9",
        "outputId": "ae4d43bc-3f66-485a-eadc-d3c60893fb0f"
      },
      "execution_count": null,
      "outputs": [
        {
          "output_type": "execute_result",
          "data": {
            "text/plain": [
              "((11290, 33), (11290,))"
            ]
          },
          "metadata": {},
          "execution_count": 23
        }
      ]
    },
    {
      "cell_type": "code",
      "source": [
        "from sklearn.ensemble import RandomForestClassifier, AdaBoostClassifier\n",
        "\n",
        "from sklearn.metrics import mean_absolute_error as mae\n",
        "from sklearn.metrics import f1_score\n",
        "from sklearn.feature_selection import RFE\n",
        "\n",
        "from sklearn.neighbors import KNeighborsClassifier\n",
        "from sklearn.svm import SVC, LinearSVC\n",
        "\n",
        "from sklearn.tree import DecisionTreeClassifier\n",
        "from sklearn.linear_model import LogisticRegression\n",
        "\n",
        "import xgboost as xgb\n",
        "from xgboost import XGBClassifier\n",
        "\n",
        "classifiers = [\n",
        "    ('Linear SVM', LinearSVC(random_state=0, tol=1e-5)),\n",
        "    ('RBF SVM', SVC(random_state=0, gamma=2, C=1)),\n",
        "    ('Decision Tree', DecisionTreeClassifier(random_state=0, max_depth=5)),\n",
        "    ('Random Forest', RandomForestClassifier(random_state=0, max_depth=5, n_estimators=10, max_features=1)),\n",
        "    ('AdaBoost', AdaBoostClassifier(random_state=0)),\n",
        "    ('XGBoost', XGBClassifier(random_state=0)),\n",
        "]"
      ],
      "metadata": {
        "id": "Kt7oFORuWUJ9"
      },
      "execution_count": null,
      "outputs": []
    },
    {
      "cell_type": "code",
      "source": [
        "# Splitting the data into cv and train set\n",
        "from sklearn.model_selection import train_test_split \n",
        "x_train , x_cv , y_train, y_cv = train_test_split(train_x , train_y , test_size = 0.2 , random_state = 0)"
      ],
      "metadata": {
        "id": "CryJNpUObsuf"
      },
      "execution_count": null,
      "outputs": []
    },
    {
      "cell_type": "code",
      "source": [
        "performance = []\n",
        "for name, clf in classifiers:\n",
        "    clf.fit(x_train, y_train)\n",
        "    y_pred = clf.predict(x_cv)\n",
        "    perf_tuple = (name, f1_score(y_cv, y_pred, average='weighted'))\n",
        "    #print(perf_tuple)\n",
        "    performance.append(perf_tuple)"
      ],
      "metadata": {
        "colab": {
          "base_uri": "https://localhost:8080/"
        },
        "id": "k_FC4YGJYx3t",
        "outputId": "eedd312f-ea7f-40c9-c323-0a5fe82cadcf"
      },
      "execution_count": null,
      "outputs": [
        {
          "output_type": "stream",
          "name": "stderr",
          "text": [
            "/usr/local/lib/python3.7/dist-packages/sklearn/svm/_base.py:1208: ConvergenceWarning: Liblinear failed to converge, increase the number of iterations.\n",
            "  ConvergenceWarning,\n"
          ]
        }
      ]
    },
    {
      "cell_type": "code",
      "source": [
        "performance_"
      ],
      "metadata": {
        "colab": {
          "base_uri": "https://localhost:8080/"
        },
        "id": "S0TDTV8Ycj9K",
        "outputId": "8174324f-0107-4aba-8520-fedca45d0297"
      },
      "execution_count": null,
      "outputs": [
        {
          "output_type": "execute_result",
          "data": {
            "text/plain": [
              "[('Linear SVM', 0.7389591789187615),\n",
              " ('RBF SVM', 0.7415885180470208),\n",
              " ('Decision Tree', 0.7624063102431518),\n",
              " ('Random Forest', 0.7871814024066975),\n",
              " ('AdaBoost', 0.8507315360344145),\n",
              " ('XGBoost', 0.8519224486205619)]"
            ]
          },
          "metadata": {},
          "execution_count": 27
        }
      ]
    },
    {
      "cell_type": "code",
      "source": [
        "def sortSecond(val):\n",
        "    return val[1]\n",
        "\n",
        "performance.sort(key=sortSecond, reverse=True)"
      ],
      "metadata": {
        "id": "ECXnLttsctMN"
      },
      "execution_count": null,
      "outputs": []
    },
    {
      "cell_type": "code",
      "source": [
        "performance            # Choose XGBoost as the key model"
      ],
      "metadata": {
        "colab": {
          "base_uri": "https://localhost:8080/"
        },
        "id": "1nJRQDsmds-g",
        "outputId": "bb1e90f1-1a92-41b0-c60f-7bb4fa1da039"
      },
      "execution_count": null,
      "outputs": [
        {
          "output_type": "execute_result",
          "data": {
            "text/plain": [
              "[('XGBoost', 0.8519224486205619),\n",
              " ('AdaBoost', 0.8507315360344145),\n",
              " ('Random Forest', 0.7871814024066975),\n",
              " ('Decision Tree', 0.7624063102431518),\n",
              " ('RBF SVM', 0.7415885180470208),\n",
              " ('Linear SVM', 0.7389591789187615)]"
            ]
          },
          "metadata": {},
          "execution_count": 29
        }
      ]
    },
    {
      "cell_type": "markdown",
      "source": [
        "## 7. Final Model and hyper-parameter tuning"
      ],
      "metadata": {
        "id": "tatpWAkKi6JZ"
      }
    },
    {
      "cell_type": "code",
      "source": [
        "param = {\n",
        "            'max_depth':range(3,12,1),\n",
        "            'min_child_weight':range(1,12,1),\n",
        "            'reg_alpha':[0, 0.001, 0.005, 0.01, 0.05],\n",
        "            'learning_rate' : [0.1 , 0.01, 0.001, 1, 10, 0.0001 ],\n",
        "            'gamma' : [0.001, 0.01, 0.1, 1, 10, 100],\n",
        "}\n"
      ],
      "metadata": {
        "id": "Os-jguAMi3eR"
      },
      "execution_count": null,
      "outputs": []
    },
    {
      "cell_type": "code",
      "source": [
        "from sklearn.model_selection import RandomizedSearchCV\n",
        "rnd_search = RandomizedSearchCV( XGBClassifier(n_estimators = 1000), \n",
        "                                random_state=0, \n",
        "                                param_distributions = param, \n",
        "                                n_iter =10, \n",
        "                                cv=5)\n",
        "\n",
        "rnd_search.fit(x_train, y_train)"
      ],
      "metadata": {
        "colab": {
          "base_uri": "https://localhost:8080/"
        },
        "id": "c912X5VvdvoN",
        "outputId": "484c219e-6581-4653-ab48-5c0580806844"
      },
      "execution_count": null,
      "outputs": [
        {
          "output_type": "execute_result",
          "data": {
            "text/plain": [
              "RandomizedSearchCV(cv=5, estimator=XGBClassifier(n_estimators=1000),\n",
              "                   param_distributions={'gamma': [0.001, 0.01, 0.1, 1, 10, 100],\n",
              "                                        'learning_rate': [0.1, 0.01, 0.001, 1,\n",
              "                                                          10, 0.0001],\n",
              "                                        'max_depth': range(3, 12),\n",
              "                                        'min_child_weight': range(1, 12),\n",
              "                                        'reg_alpha': [0, 0.001, 0.005, 0.01,\n",
              "                                                      0.05]},\n",
              "                   random_state=0)"
            ]
          },
          "metadata": {},
          "execution_count": 37
        }
      ]
    },
    {
      "cell_type": "code",
      "source": [
        "rnd_search.best_params_"
      ],
      "metadata": {
        "colab": {
          "base_uri": "https://localhost:8080/"
        },
        "id": "e8nsSSpqmT9Q",
        "outputId": "5d4ed480-4ee0-41cb-8843-facb505b9ead"
      },
      "execution_count": null,
      "outputs": [
        {
          "output_type": "execute_result",
          "data": {
            "text/plain": [
              "{'reg_alpha': 0.05,\n",
              " 'min_child_weight': 7,\n",
              " 'max_depth': 8,\n",
              " 'learning_rate': 0.01,\n",
              " 'gamma': 0.1}"
            ]
          },
          "metadata": {},
          "execution_count": 38
        }
      ]
    },
    {
      "cell_type": "code",
      "source": [
        "rnd_search.best_score_"
      ],
      "metadata": {
        "colab": {
          "base_uri": "https://localhost:8080/"
        },
        "id": "AdRmL02YmeFe",
        "outputId": "9a6522e1-2ce7-41ab-a731-2bbd74891980"
      },
      "execution_count": null,
      "outputs": [
        {
          "output_type": "execute_result",
          "data": {
            "text/plain": [
              "0.8520818816452076"
            ]
          },
          "metadata": {},
          "execution_count": 39
        }
      ]
    },
    {
      "cell_type": "code",
      "source": [],
      "metadata": {
        "id": "9XZJVEe_msyn"
      },
      "execution_count": null,
      "outputs": []
    }
  ]
}